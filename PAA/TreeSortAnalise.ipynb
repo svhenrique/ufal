{
  "nbformat": 4,
  "nbformat_minor": 0,
  "metadata": {
    "colab": {
      "name": "TreeSortAnalise.ipynb",
      "provenance": [],
      "collapsed_sections": [
        "CyCZPoolo9-m",
        "L-vvraDczVDe",
        "2-fXiQcn63f5",
        "4V9OMTgJh32p",
        "uw_woK4ii-YI"
      ],
      "authorship_tag": "ABX9TyMC8Nun/OYa6k55q4/0Abaq",
      "include_colab_link": true
    },
    "kernelspec": {
      "name": "python3",
      "display_name": "Python 3"
    },
    "language_info": {
      "name": "python"
    }
  },
  "cells": [
    {
      "cell_type": "markdown",
      "metadata": {
        "id": "view-in-github",
        "colab_type": "text"
      },
      "source": [
        "<a href=\"https://colab.research.google.com/github/svhenrique/ufal/blob/main/PAA/TreeSortAnalise.ipynb\" target=\"_parent\"><img src=\"https://colab.research.google.com/assets/colab-badge.svg\" alt=\"Open In Colab\"/></a>"
      ]
    },
    {
      "cell_type": "markdown",
      "metadata": {
        "id": "YBRLZPHxasJr"
      },
      "source": [
        "## Sobre o Algoritmo Tree Sort"
      ]
    },
    {
      "cell_type": "markdown",
      "metadata": {
        "id": "zy7IBjTZetdc"
      },
      "source": [
        "**Sobre o algoritmo**\n",
        "\n",
        "O algoritmo de ordenação Tree Sort é baseado na estrutura de dados Árvore de Busca Binária e retorna o input de elementos ordenados em valor crescente.\n",
        "\n",
        "Consiste, o algoritmo, em criar uma arvore de busca binária dos elementos que serão ordenados, \n",
        "então os elementos são coletados do primeiro nó a esquerda até o ultimo nó a direita, \n",
        "quando houverem dois nós, um a esquerda e outro a direita, é coletado o da esquerda primeiro.\n",
        "\n"
      ]
    },
    {
      "cell_type": "markdown",
      "metadata": {
        "id": "PNnKhx48Snx1"
      },
      "source": [
        "**Inventado em 1960**"
      ]
    },
    {
      "cell_type": "markdown",
      "metadata": {
        "id": "_fzTT6gsL91C"
      },
      "source": [
        "**Complexidade:**\n",
        "\n",
        "* Caso Médio: O(n log n) - Desordenado.\n",
        "* Pior Caso: O(n²) - Ordenado crescentemente ou decresentemente"
      ]
    },
    {
      "cell_type": "markdown",
      "metadata": {
        "id": "RXjgKpmhOkec"
      },
      "source": [
        "**Estabilidade**:\n",
        "  * Como Tree Sort é baseado na Árvore de Busca Binária, ele é um algoritmo estável. "
      ]
    },
    {
      "cell_type": "markdown",
      "metadata": {
        "id": "8SB7xMqtPoCc"
      },
      "source": [
        "**Interna ou Externa**:\n",
        "  \n",
        "O algoritmo funciona tanto para as entradas internas e externas, mas sua característica principal de árvore é ser usado para ordenação externa."
      ]
    },
    {
      "cell_type": "markdown",
      "metadata": {
        "id": "gFjKokGQyCI1"
      },
      "source": [
        "**Algoritmo Tree Sort**\n",
        "\n",
        "\n",
        "1.   Reeceba os elementos de um input em um array.\n",
        "2.   Criar uma árvore de busca binária inserindo os elementos do array.\n",
        "3.   Colete do elemento mais a esquerda da arvore até o mais a direita árvore para ordenar o array.\n",
        "\n"
      ]
    },
    {
      "cell_type": "markdown",
      "metadata": {
        "id": "6GSDPNcmcd99"
      },
      "source": [
        "**Fontes:**\n",
        "* https://www.geeksforgeeks.org/tree-sort/\n",
        "* https://www.geeksforgeeks.org/self-balancing-binary-search-trees-comparisons/\n",
        "* https://en.wikipedia.org/wiki/Self-balancing_binary_search_tree\n",
        "* https://www.geeksforgeeks.org/how-to-handle-duplicates-in-binary-search-tree/\n",
        "* https://www.geeksforgeeks.org/inorder-tree-traversal-without-recursion/\n"
      ]
    },
    {
      "cell_type": "markdown",
      "metadata": {
        "id": "5dyIMbn4x5Xl"
      },
      "source": [
        "## Codificando"
      ]
    },
    {
      "cell_type": "markdown",
      "metadata": {
        "id": "CyCZPoolo9-m"
      },
      "source": [
        "### Algoritmo com recursão"
      ]
    },
    {
      "cell_type": "code",
      "metadata": {
        "id": "8E1oeY0h_rBb"
      },
      "source": [
        "class No: \n",
        "  \n",
        "    def __init__(self, valor): \n",
        "        self.valor = valor\n",
        "        self.quantidade = 1\n",
        "        self.esquerda = None\n",
        "        self.direita = None\n",
        "\n",
        "class TreeSortRecursion:\n",
        "  \"\"\"\n",
        "    comparacoes representa o numero de comparacoes feitas na ordenacao\n",
        "    operacoes representa o numero de Nos criados e vinculados a arvora\n",
        "  \"\"\"\n",
        "  comparacoes = 0\n",
        "  operacoes = 0 \n",
        "  \n",
        "  def _insert(self, no, valor):\n",
        "      \n",
        "      self.comparacoes += 1\n",
        "\n",
        "      if no == None:\n",
        "          self.operacoes += 1\n",
        "          return No(valor)\n",
        "\n",
        "      if valor == no.valor:\n",
        "          (no.quantidade) += 1\n",
        "          self.operacoes += 1\n",
        "          return no\n",
        "    \n",
        "      if valor < no.valor: \n",
        "          no.esquerda = self._insert(no.esquerda, valor) \n",
        "      else:\n",
        "          no.direita = self._insert(no.direita, valor)\n",
        "    \n",
        "      return no\n",
        "\n",
        "  def _inorder(self, root):\n",
        "    if root != None:\n",
        "        self._inorder(root.esquerda)\n",
        "        print('{}'.format(f' {root.valor}'*root.quantidade), \n",
        "                                 end = \"\") \n",
        "        self._inorder(root.direita)\n",
        "  \n",
        "  def insert_vector(self, valores):\n",
        "    root = self._insert(None, valores[0])\n",
        "    for valor in range(1, len(valores)):\n",
        "      root = self._insert(root, valores[valor])\n",
        "    #self._inorder(root)\n"
      ],
      "execution_count": null,
      "outputs": []
    },
    {
      "cell_type": "markdown",
      "metadata": {
        "id": "L-vvraDczVDe"
      },
      "source": [
        "### Algoritmo sem recursão"
      ]
    },
    {
      "cell_type": "code",
      "metadata": {
        "id": "MOKNH6cgvEBl"
      },
      "source": [
        "class No: \n",
        "  \n",
        "    def __init__(self, valor): \n",
        "        self.valor = valor\n",
        "        self.quantidade = 1\n",
        "        self.esquerda = None\n",
        "        self.direita = None\n",
        "  \n",
        "\n",
        "class TreeSortIterative:\n",
        "  \"\"\"\n",
        "    comparacoes representa o numero de comparacoes feitas na ordenacao\n",
        "    operacoes representa o numero de Nos criados e vinculados a arvora\n",
        "  \"\"\"\n",
        "\n",
        "  comparacoes = 0\n",
        "\n",
        "  def __init__(self, raiz):\n",
        "    self.raiz = No(raiz)\n",
        "    self.operacoes = 1\n",
        "\n",
        "  def _insert(self, valor):\n",
        "\n",
        "      no = self.raiz\n",
        "\n",
        "      while True:\n",
        "        \n",
        "        self.comparacoes += 1\n",
        "\n",
        "        if valor == no.valor:\n",
        "          no.quantidade += 1\n",
        "          self.operacoes += 1\n",
        "          return no\n",
        "\n",
        "        elif valor < no.valor:\n",
        "\n",
        "          if no.esquerda is None:\n",
        "            no.esquerda = No(valor)\n",
        "            self.operacoes += 1\n",
        "            return no\n",
        "\n",
        "          no = no.esquerda\n",
        "\n",
        "        else:\n",
        "\n",
        "          if no.direita is None:\n",
        "            no.direita = No(valor)\n",
        "            self.operacoes += 1\n",
        "            return no\n",
        "\n",
        "          no = no.direita\n",
        "        \n",
        "  def _inorder(self):\n",
        "\n",
        "    no = self.raiz\n",
        "    pilha = []\n",
        "\n",
        "    while True:\n",
        "      \n",
        "      if no is not None:\n",
        "        pilha.append(no)\n",
        "        no = no.esquerda\n",
        "\n",
        "      elif no is None and len(pilha) > 0:\n",
        "        no_removido = pilha.pop()\n",
        "        print('{}'.format( (str(no_removido.valor)+' ') * no_removido.quantidade), end='')\n",
        "        no = no_removido.direita\n",
        "     \n",
        "      else:\n",
        "        break\n",
        "\n",
        "  def insert_vector(self, valores):\n",
        "    for valor in range(1, len(valores)):\n",
        "      root = self._insert(valores[valor])\n",
        "    self._inorder()"
      ],
      "execution_count": 1,
      "outputs": []
    },
    {
      "cell_type": "markdown",
      "metadata": {
        "id": "sJUH7erlrLoh"
      },
      "source": [
        "### Abstração para rodar os algoritmos"
      ]
    },
    {
      "cell_type": "code",
      "metadata": {
        "id": "kte8pyUUrIrh"
      },
      "source": [
        "# funcao para ordenar usando algoritmo com recursao\n",
        "import time # biblioteca para medir tempo\n",
        "def ordenar_com_recursao(valores):\n",
        "  inicio = time.time()\n",
        "  \n",
        "  tree = TreeSortRecursion()\n",
        "  tree.insert_vector(valores)\n",
        "  \n",
        "  fim = time.time()\n",
        "\n",
        "  print()\n",
        "\n",
        "  \n",
        "  # tempo de execucao\n",
        "  tempo = fim - inicio\n",
        "  \n",
        "  comparacoes = tree.comparacoes\n",
        "  operacoes = tree.operacoes\n",
        "\n",
        "  return {\n",
        "      'tempo em segundos':tempo, \n",
        "      'comparacoes': comparacoes,\n",
        "      'operacoes':operacoes\n",
        "  }"
      ],
      "execution_count": null,
      "outputs": []
    },
    {
      "cell_type": "code",
      "metadata": {
        "id": "UF7zCE0Nv_pg"
      },
      "source": [
        "# funcao para ordenar usando algoritmo sem recursao (iterativo)\n",
        "\n",
        "import time # biblioteca para medir tempo\n",
        "def ordenar_sem_recursao(valores):\n",
        "\n",
        "  inicio = time.time()\n",
        "  raiz = valores[0]\n",
        "  tree = TreeSortIterative(raiz)\n",
        "  tree.insert_vector(valores)\n",
        "  fim = time.time()\n",
        "  print()\n",
        "\n",
        "  \n",
        "  # tempo de execucao\n",
        "  tempo = fim - inicio\n",
        "  \n",
        "  comparacoes = tree.comparacoes\n",
        "  operacoes = tree.operacoes\n",
        "\n",
        "  return {\n",
        "      'tempo em segundos':tempo, \n",
        "      'comparacoes': comparacoes,\n",
        "      'operacoes': operacoes\n",
        "  }"
      ],
      "execution_count": 2,
      "outputs": []
    },
    {
      "cell_type": "markdown",
      "metadata": {
        "id": "iZpBUvBpjzJv"
      },
      "source": [
        "## Testando"
      ]
    },
    {
      "cell_type": "code",
      "metadata": {
        "id": "370aSAEqUeNo"
      },
      "source": [
        "import random\n",
        "from matplotlib import pyplot as plt"
      ],
      "execution_count": null,
      "outputs": []
    },
    {
      "cell_type": "markdown",
      "metadata": {
        "id": "szM6MqIEZkVx"
      },
      "source": [
        "### 10000 elementos"
      ]
    },
    {
      "cell_type": "code",
      "metadata": {
        "id": "LuVSPFbJj1yv"
      },
      "source": [
        "pior_caso = list(range(10000, 0, -1))\n",
        "melhor_caso = list(range(1, 10001))\n",
        "medio_caso = random.sample(range(1, 1000000001), 10000) # aumentando range para coletar numeros aleatorios"
      ],
      "execution_count": null,
      "outputs": []
    },
    {
      "cell_type": "markdown",
      "metadata": {
        "id": "GjtRYsmLU7vo"
      },
      "source": [
        "#### Testando para melhor caso"
      ]
    },
    {
      "cell_type": "code",
      "metadata": {
        "colab": {
          "base_uri": "https://localhost:8080/",
          "height": 337
        },
        "id": "DeUaHmLuVVBA",
        "outputId": "8a98c3d3-d185-4890-9c24-d1ce00b5dde6"
      },
      "source": [
        "ordenar_com_recursao(melhor_caso)"
      ],
      "execution_count": null,
      "outputs": [
        {
          "output_type": "error",
          "ename": "RecursionError",
          "evalue": "ignored",
          "traceback": [
            "\u001b[0;31m---------------------------------------------------------------------------\u001b[0m",
            "\u001b[0;31mRecursionError\u001b[0m                            Traceback (most recent call last)",
            "\u001b[0;32m<ipython-input-81-c493c559a0c4>\u001b[0m in \u001b[0;36m<module>\u001b[0;34m()\u001b[0m\n\u001b[0;32m----> 1\u001b[0;31m \u001b[0mordenar_com_recursao\u001b[0m\u001b[0;34m(\u001b[0m\u001b[0mmelhor_caso\u001b[0m\u001b[0;34m)\u001b[0m\u001b[0;34m\u001b[0m\u001b[0;34m\u001b[0m\u001b[0m\n\u001b[0m",
            "\u001b[0;32m<ipython-input-25-0a35a063e389>\u001b[0m in \u001b[0;36mordenar_com_recursao\u001b[0;34m(valores)\u001b[0m\n\u001b[1;32m      5\u001b[0m \u001b[0;34m\u001b[0m\u001b[0m\n\u001b[1;32m      6\u001b[0m   \u001b[0mtree\u001b[0m \u001b[0;34m=\u001b[0m \u001b[0mTreeSortRecursion\u001b[0m\u001b[0;34m(\u001b[0m\u001b[0;34m)\u001b[0m\u001b[0;34m\u001b[0m\u001b[0;34m\u001b[0m\u001b[0m\n\u001b[0;32m----> 7\u001b[0;31m   \u001b[0mtree\u001b[0m\u001b[0;34m.\u001b[0m\u001b[0minsert_vector\u001b[0m\u001b[0;34m(\u001b[0m\u001b[0mvalores\u001b[0m\u001b[0;34m)\u001b[0m\u001b[0;34m\u001b[0m\u001b[0;34m\u001b[0m\u001b[0m\n\u001b[0m\u001b[1;32m      8\u001b[0m \u001b[0;34m\u001b[0m\u001b[0m\n\u001b[1;32m      9\u001b[0m   \u001b[0mfim\u001b[0m \u001b[0;34m=\u001b[0m \u001b[0mtime\u001b[0m\u001b[0;34m.\u001b[0m\u001b[0mtime\u001b[0m\u001b[0;34m(\u001b[0m\u001b[0;34m)\u001b[0m\u001b[0;34m\u001b[0m\u001b[0;34m\u001b[0m\u001b[0m\n",
            "\u001b[0;32m<ipython-input-23-2593383cfcd5>\u001b[0m in \u001b[0;36minsert_vector\u001b[0;34m(self, valores)\u001b[0m\n\u001b[1;32m     45\u001b[0m     \u001b[0mroot\u001b[0m \u001b[0;34m=\u001b[0m \u001b[0mself\u001b[0m\u001b[0;34m.\u001b[0m\u001b[0m_insert\u001b[0m\u001b[0;34m(\u001b[0m\u001b[0;32mNone\u001b[0m\u001b[0;34m,\u001b[0m \u001b[0mvalores\u001b[0m\u001b[0;34m[\u001b[0m\u001b[0;36m0\u001b[0m\u001b[0;34m]\u001b[0m\u001b[0;34m)\u001b[0m\u001b[0;34m\u001b[0m\u001b[0;34m\u001b[0m\u001b[0m\n\u001b[1;32m     46\u001b[0m     \u001b[0;32mfor\u001b[0m \u001b[0mvalor\u001b[0m \u001b[0;32min\u001b[0m \u001b[0mrange\u001b[0m\u001b[0;34m(\u001b[0m\u001b[0;36m1\u001b[0m\u001b[0;34m,\u001b[0m \u001b[0mlen\u001b[0m\u001b[0;34m(\u001b[0m\u001b[0mvalores\u001b[0m\u001b[0;34m)\u001b[0m\u001b[0;34m)\u001b[0m\u001b[0;34m:\u001b[0m\u001b[0;34m\u001b[0m\u001b[0;34m\u001b[0m\u001b[0m\n\u001b[0;32m---> 47\u001b[0;31m       \u001b[0mroot\u001b[0m \u001b[0;34m=\u001b[0m \u001b[0mself\u001b[0m\u001b[0;34m.\u001b[0m\u001b[0m_insert\u001b[0m\u001b[0;34m(\u001b[0m\u001b[0mroot\u001b[0m\u001b[0;34m,\u001b[0m \u001b[0mvalores\u001b[0m\u001b[0;34m[\u001b[0m\u001b[0mvalor\u001b[0m\u001b[0;34m]\u001b[0m\u001b[0;34m)\u001b[0m\u001b[0;34m\u001b[0m\u001b[0;34m\u001b[0m\u001b[0m\n\u001b[0m\u001b[1;32m     48\u001b[0m     \u001b[0;31m#self._inorder(root)\u001b[0m\u001b[0;34m\u001b[0m\u001b[0;34m\u001b[0m\u001b[0;34m\u001b[0m\u001b[0m\n",
            "\u001b[0;32m<ipython-input-23-2593383cfcd5>\u001b[0m in \u001b[0;36m_insert\u001b[0;34m(self, no, valor)\u001b[0m\n\u001b[1;32m     31\u001b[0m           \u001b[0mno\u001b[0m\u001b[0;34m.\u001b[0m\u001b[0mesquerda\u001b[0m \u001b[0;34m=\u001b[0m \u001b[0mself\u001b[0m\u001b[0;34m.\u001b[0m\u001b[0m_insert\u001b[0m\u001b[0;34m(\u001b[0m\u001b[0mno\u001b[0m\u001b[0;34m.\u001b[0m\u001b[0mesquerda\u001b[0m\u001b[0;34m,\u001b[0m \u001b[0mvalor\u001b[0m\u001b[0;34m)\u001b[0m\u001b[0;34m\u001b[0m\u001b[0;34m\u001b[0m\u001b[0m\n\u001b[1;32m     32\u001b[0m       \u001b[0;32melse\u001b[0m\u001b[0;34m:\u001b[0m\u001b[0;34m\u001b[0m\u001b[0;34m\u001b[0m\u001b[0m\n\u001b[0;32m---> 33\u001b[0;31m           \u001b[0mno\u001b[0m\u001b[0;34m.\u001b[0m\u001b[0mdireita\u001b[0m \u001b[0;34m=\u001b[0m \u001b[0mself\u001b[0m\u001b[0;34m.\u001b[0m\u001b[0m_insert\u001b[0m\u001b[0;34m(\u001b[0m\u001b[0mno\u001b[0m\u001b[0;34m.\u001b[0m\u001b[0mdireita\u001b[0m\u001b[0;34m,\u001b[0m \u001b[0mvalor\u001b[0m\u001b[0;34m)\u001b[0m\u001b[0;34m\u001b[0m\u001b[0;34m\u001b[0m\u001b[0m\n\u001b[0m\u001b[1;32m     34\u001b[0m \u001b[0;34m\u001b[0m\u001b[0m\n\u001b[1;32m     35\u001b[0m       \u001b[0;32mreturn\u001b[0m \u001b[0mno\u001b[0m\u001b[0;34m\u001b[0m\u001b[0;34m\u001b[0m\u001b[0m\n",
            "... last 1 frames repeated, from the frame below ...\n",
            "\u001b[0;32m<ipython-input-23-2593383cfcd5>\u001b[0m in \u001b[0;36m_insert\u001b[0;34m(self, no, valor)\u001b[0m\n\u001b[1;32m     31\u001b[0m           \u001b[0mno\u001b[0m\u001b[0;34m.\u001b[0m\u001b[0mesquerda\u001b[0m \u001b[0;34m=\u001b[0m \u001b[0mself\u001b[0m\u001b[0;34m.\u001b[0m\u001b[0m_insert\u001b[0m\u001b[0;34m(\u001b[0m\u001b[0mno\u001b[0m\u001b[0;34m.\u001b[0m\u001b[0mesquerda\u001b[0m\u001b[0;34m,\u001b[0m \u001b[0mvalor\u001b[0m\u001b[0;34m)\u001b[0m\u001b[0;34m\u001b[0m\u001b[0;34m\u001b[0m\u001b[0m\n\u001b[1;32m     32\u001b[0m       \u001b[0;32melse\u001b[0m\u001b[0;34m:\u001b[0m\u001b[0;34m\u001b[0m\u001b[0;34m\u001b[0m\u001b[0m\n\u001b[0;32m---> 33\u001b[0;31m           \u001b[0mno\u001b[0m\u001b[0;34m.\u001b[0m\u001b[0mdireita\u001b[0m \u001b[0;34m=\u001b[0m \u001b[0mself\u001b[0m\u001b[0;34m.\u001b[0m\u001b[0m_insert\u001b[0m\u001b[0;34m(\u001b[0m\u001b[0mno\u001b[0m\u001b[0;34m.\u001b[0m\u001b[0mdireita\u001b[0m\u001b[0;34m,\u001b[0m \u001b[0mvalor\u001b[0m\u001b[0;34m)\u001b[0m\u001b[0;34m\u001b[0m\u001b[0;34m\u001b[0m\u001b[0m\n\u001b[0m\u001b[1;32m     34\u001b[0m \u001b[0;34m\u001b[0m\u001b[0m\n\u001b[1;32m     35\u001b[0m       \u001b[0;32mreturn\u001b[0m \u001b[0mno\u001b[0m\u001b[0;34m\u001b[0m\u001b[0;34m\u001b[0m\u001b[0m\n",
            "\u001b[0;31mRecursionError\u001b[0m: maximum recursion depth exceeded"
          ]
        }
      ]
    },
    {
      "cell_type": "markdown",
      "metadata": {
        "id": "HB2_RanSA5CW"
      },
      "source": [
        "Como a função com recursão não aceita inputs com mais de 10000, não será mais usada.\n",
        "Continuaremos usando a função iterativa por esse motivo."
      ]
    },
    {
      "cell_type": "code",
      "metadata": {
        "colab": {
          "base_uri": "https://localhost:8080/"
        },
        "id": "uSgP2m4EwWaw",
        "outputId": "f7bc0474-7879-4d1e-ef24-639b48196701"
      },
      "source": [
        "melhor = ordenar_sem_recursao(melhor_caso)\n",
        "melhor"
      ],
      "execution_count": null,
      "outputs": [
        {
          "output_type": "stream",
          "text": [
            "\n"
          ],
          "name": "stdout"
        },
        {
          "output_type": "execute_result",
          "data": {
            "text/plain": [
              "{'comparacoes': 49995000,\n",
              " 'operacoes': 10000,\n",
              " 'tempo em segundos': 18.495849132537842}"
            ]
          },
          "metadata": {
            "tags": []
          },
          "execution_count": 82
        }
      ]
    },
    {
      "cell_type": "markdown",
      "metadata": {
        "id": "4cfTbEJdVq5o"
      },
      "source": [
        "#### Testando para o pior caso"
      ]
    },
    {
      "cell_type": "code",
      "metadata": {
        "colab": {
          "base_uri": "https://localhost:8080/"
        },
        "id": "K9CVT_GaVvCm",
        "outputId": "87a95f54-93f7-4088-f4a2-e49aaff44f22"
      },
      "source": [
        "pior = ordenar_sem_recursao(pior_caso)\n",
        "pior"
      ],
      "execution_count": null,
      "outputs": [
        {
          "output_type": "stream",
          "text": [
            "\n"
          ],
          "name": "stdout"
        },
        {
          "output_type": "execute_result",
          "data": {
            "text/plain": [
              "{'comparacoes': 49995000,\n",
              " 'operacoes': 10000,\n",
              " 'tempo em segundos': 18.645413398742676}"
            ]
          },
          "metadata": {
            "tags": []
          },
          "execution_count": 83
        }
      ]
    },
    {
      "cell_type": "markdown",
      "metadata": {
        "id": "1ZU0X2SxXvyi"
      },
      "source": [
        "#### Testando para o caso médio"
      ]
    },
    {
      "cell_type": "code",
      "metadata": {
        "colab": {
          "base_uri": "https://localhost:8080/"
        },
        "id": "CS8ilMXhXvyt",
        "outputId": "69a2eaeb-e85b-4ddd-8722-36320d6cf891"
      },
      "source": [
        "medio = ordenar_sem_recursao(medio_caso)\n",
        "medio"
      ],
      "execution_count": null,
      "outputs": [
        {
          "output_type": "stream",
          "text": [
            "\n"
          ],
          "name": "stdout"
        },
        {
          "output_type": "execute_result",
          "data": {
            "text/plain": [
              "{'comparacoes': 161359,\n",
              " 'operacoes': 10000,\n",
              " 'tempo em segundos': 0.10057640075683594}"
            ]
          },
          "metadata": {
            "tags": []
          },
          "execution_count": 84
        }
      ]
    },
    {
      "cell_type": "markdown",
      "metadata": {
        "id": "D9HrRAZ0bJGD"
      },
      "source": [
        "#### Comparando"
      ]
    },
    {
      "cell_type": "markdown",
      "metadata": {
        "id": "PywKdirmlR07"
      },
      "source": [
        "Comparando os resultados dos parâmetros retornados pela função de ordenação nos 3 casos, melhor, medio e pior."
      ]
    },
    {
      "cell_type": "code",
      "metadata": {
        "colab": {
          "base_uri": "https://localhost:8080/",
          "height": 281
        },
        "id": "YsQGLaeMbK9x",
        "outputId": "037b97cf-9c95-438f-e0f1-5d5408e12f92"
      },
      "source": [
        "# comparacoes\n",
        "plt.bar(['Melhor', 'Medio', 'Pior'], [melhor['comparacoes'], medio['comparacoes'], pior['comparacoes']])\n",
        "plt.title('Comparação')\n",
        "plt.grid(True)\n",
        "plt.show()"
      ],
      "execution_count": null,
      "outputs": [
        {
          "output_type": "display_data",
          "data": {
            "image/png": "[encoded data removed]",
            "text/plain": [
              "<Figure size 432x288 with 1 Axes>"
            ]
          },
          "metadata": {
            "tags": [],
            "needs_background": "light"
          }
        }
      ]
    },
    {
      "cell_type": "code",
      "metadata": {
        "colab": {
          "base_uri": "https://localhost:8080/",
          "height": 281
        },
        "id": "J4vOZD2Ock3S",
        "outputId": "74f4ac57-22c5-4026-e94c-d42d4e96b610"
      },
      "source": [
        "# operacoes\n",
        "plt.bar(['Melhor', 'Medio', 'Pior'], [melhor['operacoes'], medio['operacoes'], pior['operacoes']])\n",
        "plt.title('Comparação')\n",
        "plt.grid(True)\n",
        "plt.show()"
      ],
      "execution_count": null,
      "outputs": [
        {
          "output_type": "display_data",
          "data": {
            "image/png": "[encoded data removed]",
            "text/plain": [
              "<Figure size 432x288 with 1 Axes>"
            ]
          },
          "metadata": {
            "tags": [],
            "needs_background": "light"
          }
        }
      ]
    },
    {
      "cell_type": "code",
      "metadata": {
        "colab": {
          "base_uri": "https://localhost:8080/",
          "height": 281
        },
        "id": "4Tnjy45dczQ6",
        "outputId": "a6fe04b9-c611-482f-dd8a-606102314087"
      },
      "source": [
        "# tempo\n",
        "plt.bar(['Melhor', 'Medio', 'Pior'], [melhor['tempo em segundos'], medio['tempo em segundos'], pior['tempo em segundos']])\n",
        "plt.title('Comparação')\n",
        "plt.grid(True)\n",
        "plt.show()"
      ],
      "execution_count": null,
      "outputs": [
        {
          "output_type": "display_data",
          "data": {
            "image/png": "[encoded data removed]",
            "text/plain": [
              "<Figure size 432x288 with 1 Axes>"
            ]
          },
          "metadata": {
            "tags": [],
            "needs_background": "light"
          }
        }
      ]
    },
    {
      "cell_type": "markdown",
      "metadata": {
        "id": "vLUmN7LAZ0Z0"
      },
      "source": [
        "### 100000 elementos"
      ]
    },
    {
      "cell_type": "code",
      "metadata": {
        "id": "wLdhwyGhZ0Z-"
      },
      "source": [
        "pior_caso = list(range(100000, 0, -1))\n",
        "melhor_caso = list(range(1, 100001))\n",
        "medio_caso = random.sample(range(1, 1000000001), 100000)"
      ],
      "execution_count": null,
      "outputs": []
    },
    {
      "cell_type": "markdown",
      "metadata": {
        "id": "USMRIc4cZ0Z-"
      },
      "source": [
        "#### Testando para melhor caso"
      ]
    },
    {
      "cell_type": "code",
      "metadata": {
        "colab": {
          "base_uri": "https://localhost:8080/"
        },
        "id": "OoHiCPbaZ0Z_",
        "outputId": "2d64f660-29a8-45bc-a24b-5442ed5f2ea8"
      },
      "source": [
        "melhor = ordenar_sem_recursao(melhor_caso)\n",
        "melhor"
      ],
      "execution_count": null,
      "outputs": [
        {
          "output_type": "stream",
          "text": [
            "\n"
          ],
          "name": "stdout"
        },
        {
          "output_type": "execute_result",
          "data": {
            "text/plain": [
              "{'comparacoes': 4999950000,\n",
              " 'operacoes': 100000,\n",
              " 'tempo em segundos': 1941.6711933612823}"
            ]
          },
          "metadata": {
            "tags": []
          },
          "execution_count": 34
        }
      ]
    },
    {
      "cell_type": "markdown",
      "metadata": {
        "id": "oCVLVKkGZ0aA"
      },
      "source": [
        "#### Testando para o pior caso"
      ]
    },
    {
      "cell_type": "code",
      "metadata": {
        "id": "4GUNaVQkZ0aA",
        "colab": {
          "base_uri": "https://localhost:8080/"
        },
        "outputId": "9b52767f-69e5-49c9-db25-006682e402fc"
      },
      "source": [
        "pior = ordenar_sem_recursao(pior_caso)\n",
        "pior"
      ],
      "execution_count": null,
      "outputs": [
        {
          "output_type": "stream",
          "text": [
            "\n"
          ],
          "name": "stdout"
        },
        {
          "output_type": "execute_result",
          "data": {
            "text/plain": [
              "{'comparacoes': 4999950000,\n",
              " 'operacoes': 100000,\n",
              " 'tempo em segundos': 1971.238587141037}"
            ]
          },
          "metadata": {
            "tags": []
          },
          "execution_count": 35
        }
      ]
    },
    {
      "cell_type": "markdown",
      "metadata": {
        "id": "b1_VhkAjZ0aB"
      },
      "source": [
        "#### Testando para o caso médio"
      ]
    },
    {
      "cell_type": "code",
      "metadata": {
        "id": "p0uLeESOZ0aB",
        "colab": {
          "base_uri": "https://localhost:8080/"
        },
        "outputId": "28748470-5764-4002-cdbc-2b5ecd2167ed"
      },
      "source": [
        "medio = ordenar_sem_recursao(medio_caso)\n",
        "medio"
      ],
      "execution_count": null,
      "outputs": [
        {
          "output_type": "stream",
          "text": [
            "\n"
          ],
          "name": "stdout"
        },
        {
          "output_type": "execute_result",
          "data": {
            "text/plain": [
              "{'comparacoes': 2034879,\n",
              " 'operacoes': 100000,\n",
              " 'tempo em segundos': 1.537031888961792}"
            ]
          },
          "metadata": {
            "tags": []
          },
          "execution_count": 36
        }
      ]
    },
    {
      "cell_type": "markdown",
      "metadata": {
        "id": "s4KK46-sdCnc"
      },
      "source": [
        "#### Comparando"
      ]
    },
    {
      "cell_type": "markdown",
      "metadata": {
        "id": "qDy2FesWlhO5"
      },
      "source": [
        "Comparando os resultados dos parâmetros retornados pela função de ordenação nos 3 casos, melhor, medio e pior."
      ]
    },
    {
      "cell_type": "code",
      "metadata": {
        "id": "7rGkI5mqdCnl",
        "colab": {
          "base_uri": "https://localhost:8080/",
          "height": 281
        },
        "outputId": "d8c8d06f-9010-43bd-f526-bb2bb4525c19"
      },
      "source": [
        "# comparacoes\n",
        "plt.bar(['Melhor', 'Medio', 'Pior'], [melhor['comparacoes'], medio['comparacoes'], pior['comparacoes']])\n",
        "plt.title('Comparação')\n",
        "plt.grid(True)\n",
        "plt.show()"
      ],
      "execution_count": null,
      "outputs": [
        {
          "output_type": "display_data",
          "data": {
            "image/png": "[encoded data removed]",
            "text/plain": [
              "<Figure size 432x288 with 1 Axes>"
            ]
          },
          "metadata": {
            "tags": [],
            "needs_background": "light"
          }
        }
      ]
    },
    {
      "cell_type": "code",
      "metadata": {
        "id": "vJ34cuVvdCnm",
        "colab": {
          "base_uri": "https://localhost:8080/",
          "height": 281
        },
        "outputId": "1fccdd61-0f13-4369-89b5-7d3f4fc6fe5e"
      },
      "source": [
        "# operacoes\n",
        "plt.bar(['Melhor', 'Medio', 'Pior'], [melhor['operacoes'], medio['operacoes'], pior['operacoes']])\n",
        "plt.title('Comparação')\n",
        "plt.grid(True)\n",
        "plt.show()"
      ],
      "execution_count": null,
      "outputs": [
        {
          "output_type": "display_data",
          "data": {
            "image/png": "[encoded data removed]",
            "text/plain": [
              "<Figure size 432x288 with 1 Axes>"
            ]
          },
          "metadata": {
            "tags": [],
            "needs_background": "light"
          }
        }
      ]
    },
    {
      "cell_type": "code",
      "metadata": {
        "id": "dJIE2i6udCnm",
        "colab": {
          "base_uri": "https://localhost:8080/",
          "height": 281
        },
        "outputId": "f4ae52b6-4e45-406e-a3f4-899764dc1cd6"
      },
      "source": [
        "# tempo\n",
        "plt.bar(['Melhor', 'Medio', 'Pior'], [melhor['tempo em segundos'], medio['tempo em segundos'], pior['tempo em segundos']])\n",
        "plt.title('Comparação')\n",
        "plt.grid(True)\n",
        "plt.show()"
      ],
      "execution_count": null,
      "outputs": [
        {
          "output_type": "display_data",
          "data": {
            "image/png": "[encoded data removed]",
            "text/plain": [
              "<Figure size 432x288 with 1 Axes>"
            ]
          },
          "metadata": {
            "tags": [],
            "needs_background": "light"
          }
        }
      ]
    },
    {
      "cell_type": "markdown",
      "metadata": {
        "id": "jKzHS8ozor0-"
      },
      "source": [
        "### Analisando testes aprofundadamente"
      ]
    },
    {
      "cell_type": "code",
      "metadata": {
        "id": "VLpehhQ1sUKo"
      },
      "source": [
        "piores_casos, melhores_casos, medios_casos = [], [], []\n",
        "\n",
        "ordenar = ordenar_sem_recursao\n",
        "for c in range(50):\n",
        "  \n",
        "  numeros = random.sample(range(1, 1000000001), 10000)\n",
        "\n",
        "  medios_casos.append(ordenar(numeros))\n",
        "  numeros.sort()\n",
        "  melhores_casos.append(ordenar(numeros))\n",
        "  numeros.reverse()\n",
        "  piores_casos.append(ordenar(numeros))\n"
      ],
      "execution_count": null,
      "outputs": []
    },
    {
      "cell_type": "markdown",
      "metadata": {
        "id": "J64ncVp6lq7Z"
      },
      "source": [
        "Comparando os parâmetros individualmente."
      ]
    },
    {
      "cell_type": "markdown",
      "metadata": {
        "id": "0vRxok6Uw01y"
      },
      "source": [
        "#### Melhores casos"
      ]
    },
    {
      "cell_type": "code",
      "metadata": {
        "colab": {
          "base_uri": "https://localhost:8080/",
          "height": 265
        },
        "id": "LI86Fc3Ao6D3",
        "outputId": "dfe51205-9af3-4e1c-a053-4f8e1907265d"
      },
      "source": [
        "# comparacoes\n",
        "plt.plot([analise['comparacoes'] for analise in melhores_casos])\n",
        "plt.ticklabel_format(style = 'plain')\n",
        "plt.show()"
      ],
      "execution_count": null,
      "outputs": [
        {
          "output_type": "display_data",
          "data": {
            "image/png": "[encoded data removed]",
            "text/plain": [
              "<Figure size 432x288 with 1 Axes>"
            ]
          },
          "metadata": {
            "tags": [],
            "needs_background": "light"
          }
        }
      ]
    },
    {
      "cell_type": "code",
      "metadata": {
        "colab": {
          "base_uri": "https://localhost:8080/",
          "height": 265
        },
        "id": "Sl0LhtLpthuw",
        "outputId": "31d50047-7b87-4e26-fbc1-cf33ad9f2937"
      },
      "source": [
        "# operacoes\n",
        "plt.plot([analise['operacoes'] for analise in melhores_casos])\n",
        "plt.show()"
      ],
      "execution_count": null,
      "outputs": [
        {
          "output_type": "display_data",
          "data": {
            "image/png": "[encoded data removed]",
            "text/plain": [
              "<Figure size 432x288 with 1 Axes>"
            ]
          },
          "metadata": {
            "tags": [],
            "needs_background": "light"
          }
        }
      ]
    },
    {
      "cell_type": "code",
      "metadata": {
        "colab": {
          "base_uri": "https://localhost:8080/",
          "height": 265
        },
        "id": "WUjS6jzHtjSQ",
        "outputId": "f7d3ba3f-553e-40d4-8545-5545cd582fd8"
      },
      "source": [
        "# tempo \n",
        "plt.plot([analise['tempo em segundos'] for analise in melhores_casos])\n",
        "plt.show()"
      ],
      "execution_count": null,
      "outputs": [
        {
          "output_type": "display_data",
          "data": {
            "image/png": "[encoded data removed]",
            "text/plain": [
              "<Figure size 432x288 with 1 Axes>"
            ]
          },
          "metadata": {
            "tags": [],
            "needs_background": "light"
          }
        }
      ]
    },
    {
      "cell_type": "markdown",
      "metadata": {
        "id": "yId_m9U4w3H4"
      },
      "source": [
        "#### Medios casos"
      ]
    },
    {
      "cell_type": "code",
      "metadata": {
        "colab": {
          "base_uri": "https://localhost:8080/",
          "height": 265
        },
        "id": "XsK_OoTkw6Tw",
        "outputId": "4153318d-22e1-4db3-c5ac-b58e0837faff"
      },
      "source": [
        "# comparacoes\n",
        "plt.plot([analise['comparacoes'] for analise in medios_casos])\n",
        "plt.show()"
      ],
      "execution_count": null,
      "outputs": [
        {
          "output_type": "display_data",
          "data": {
            "image/png": "[encoded data removed]",
            "text/plain": [
              "<Figure size 432x288 with 1 Axes>"
            ]
          },
          "metadata": {
            "tags": [],
            "needs_background": "light"
          }
        }
      ]
    },
    {
      "cell_type": "code",
      "metadata": {
        "colab": {
          "base_uri": "https://localhost:8080/",
          "height": 265
        },
        "id": "2PGvAJdmw88x",
        "outputId": "86609edc-a29f-479f-ae52-bcbe797bf4ff"
      },
      "source": [
        "# operacoes\n",
        "plt.plot([analise['operacoes'] for analise in medios_casos])\n",
        "plt.show()"
      ],
      "execution_count": null,
      "outputs": [
        {
          "output_type": "display_data",
          "data": {
            "image/png": "[encoded data removed]",
            "text/plain": [
              "<Figure size 432x288 with 1 Axes>"
            ]
          },
          "metadata": {
            "tags": [],
            "needs_background": "light"
          }
        }
      ]
    },
    {
      "cell_type": "code",
      "metadata": {
        "colab": {
          "base_uri": "https://localhost:8080/",
          "height": 265
        },
        "id": "2tjSkC9SxAs5",
        "outputId": "660fa029-d8f5-4f0b-d99c-e65faf72ce8c"
      },
      "source": [
        "# tempo\n",
        "plt.plot([analise['tempo em segundos'] for analise in medios_casos])\n",
        "plt.show()"
      ],
      "execution_count": null,
      "outputs": [
        {
          "output_type": "display_data",
          "data": {
            "image/png": "[encoded data removed]",
            "text/plain": [
              "<Figure size 432x288 with 1 Axes>"
            ]
          },
          "metadata": {
            "tags": [],
            "needs_background": "light"
          }
        }
      ]
    },
    {
      "cell_type": "markdown",
      "metadata": {
        "id": "up90q5QNxMsi"
      },
      "source": [
        "#### Piores casos"
      ]
    },
    {
      "cell_type": "code",
      "metadata": {
        "colab": {
          "base_uri": "https://localhost:8080/",
          "height": 265
        },
        "id": "54AGj0p8xQKg",
        "outputId": "3b487a9b-2385-4413-bed3-033ca1be674c"
      },
      "source": [
        "# comparacoes\n",
        "plt.plot([analise['comparacoes'] for analise in piores_casos])\n",
        "plt.ticklabel_format(style = 'plain')\n",
        "plt.show()"
      ],
      "execution_count": null,
      "outputs": [
        {
          "output_type": "display_data",
          "data": {
            "image/png": "[encoded data removed]",
            "text/plain": [
              "<Figure size 432x288 with 1 Axes>"
            ]
          },
          "metadata": {
            "tags": [],
            "needs_background": "light"
          }
        }
      ]
    },
    {
      "cell_type": "code",
      "metadata": {
        "colab": {
          "base_uri": "https://localhost:8080/",
          "height": 265
        },
        "id": "viqelmi4xQiI",
        "outputId": "a34b5826-3ff8-4216-cc51-f59e23bcbd52"
      },
      "source": [
        "# operacoes\n",
        "plt.plot([analise['operacoes'] for analise in piores_casos])\n",
        "plt.show()"
      ],
      "execution_count": null,
      "outputs": [
        {
          "output_type": "display_data",
          "data": {
            "image/png": "[encoded data removed]",
            "text/plain": [
              "<Figure size 432x288 with 1 Axes>"
            ]
          },
          "metadata": {
            "tags": [],
            "needs_background": "light"
          }
        }
      ]
    },
    {
      "cell_type": "code",
      "metadata": {
        "colab": {
          "base_uri": "https://localhost:8080/",
          "height": 265
        },
        "id": "hKKERnb9xWvq",
        "outputId": "9d416e67-041b-4ec6-ef43-dd2284afa8bc"
      },
      "source": [
        "# tempo\n",
        "plt.plot([analise['tempo em segundos'] for analise in piores_casos])\n",
        "plt.show()"
      ],
      "execution_count": null,
      "outputs": [
        {
          "output_type": "display_data",
          "data": {
            "image/png": "[encoded data removed]",
            "text/plain": [
              "<Figure size 432x288 with 1 Axes>"
            ]
          },
          "metadata": {
            "tags": [],
            "needs_background": "light"
          }
        }
      ]
    },
    {
      "cell_type": "markdown",
      "metadata": {
        "id": "CEmDTvXVAJT1"
      },
      "source": [
        "#### Comparando resultados"
      ]
    },
    {
      "cell_type": "markdown",
      "metadata": {
        "id": "0ongYRcSl4hq"
      },
      "source": [
        "Comparando os os parâmetros entre os 3 casos."
      ]
    },
    {
      "cell_type": "code",
      "metadata": {
        "colab": {
          "base_uri": "https://localhost:8080/",
          "height": 265
        },
        "id": "NT_y9ISaALO_",
        "outputId": "9120d207-8ae1-436a-d83a-bd407fc910f1"
      },
      "source": [
        "# comparacao \n",
        "plt.plot([analise['comparacoes'] for analise in piores_casos])\n",
        "plt.plot([analise['comparacoes'] for analise in melhores_casos])\n",
        "plt.plot([analise['comparacoes'] for analise in medios_casos])\n",
        "plt.ticklabel_format(style = 'plain')\n",
        "plt.show()"
      ],
      "execution_count": null,
      "outputs": [
        {
          "output_type": "display_data",
          "data": {
            "image/png": "[encoded data removed]",
            "text/plain": [
              "<Figure size 432x288 with 1 Axes>"
            ]
          },
          "metadata": {
            "tags": [],
            "needs_background": "light"
          }
        }
      ]
    },
    {
      "cell_type": "code",
      "metadata": {
        "colab": {
          "base_uri": "https://localhost:8080/",
          "height": 265
        },
        "id": "pHADkp3rAYY_",
        "outputId": "a869dcac-bc77-4355-bfd0-8a95c5f06854"
      },
      "source": [
        "# operacoes \n",
        "plt.plot([analise['operacoes'] for analise in piores_casos])\n",
        "plt.plot([analise['operacoes'] for analise in melhores_casos])\n",
        "plt.plot([analise['operacoes'] for analise in medios_casos])\n",
        "plt.show()"
      ],
      "execution_count": null,
      "outputs": [
        {
          "output_type": "display_data",
          "data": {
            "image/png": "[encoded data removed]",
            "text/plain": [
              "<Figure size 432x288 with 1 Axes>"
            ]
          },
          "metadata": {
            "tags": [],
            "needs_background": "light"
          }
        }
      ]
    },
    {
      "cell_type": "code",
      "metadata": {
        "colab": {
          "base_uri": "https://localhost:8080/",
          "height": 265
        },
        "id": "SW68PtkLAklm",
        "outputId": "e46f8baa-0fcf-4a6a-f068-8ec56f06eb29"
      },
      "source": [
        "# tempo em segundos \n",
        "plt.plot([analise['tempo em segundos'] for analise in piores_casos], color='red')\n",
        "plt.plot([analise['tempo em segundos'] for analise in melhores_casos], color='blue')\n",
        "plt.plot([analise['tempo em segundos'] for analise in medios_casos], color='green')\n",
        "plt.show()"
      ],
      "execution_count": null,
      "outputs": [
        {
          "output_type": "display_data",
          "data": {
            "image/png": "[encoded data removed]",
            "text/plain": [
              "<Figure size 432x288 with 1 Axes>"
            ]
          },
          "metadata": {
            "tags": [],
            "needs_background": "light"
          }
        }
      ]
    },
    {
      "cell_type": "markdown",
      "metadata": {
        "id": "2-fXiQcn63f5"
      },
      "source": [
        "## Considerações"
      ]
    },
    {
      "cell_type": "markdown",
      "metadata": {
        "id": "wHdKHlH865sp"
      },
      "source": [
        "Como o algoritmo é O(n²) para o pior caso, não foi possível calcular as listas com 1 milhão e 10 milhões de elementos por conta do tempo que tinhamos para a entrega desse trabalho. Um único teste de 1 milhão passou 3 dias para ser completado e os de 10 milhões ficou 4 dias em estágio de processamento, até seu cancelamento."
      ]
    },
    {
      "cell_type": "markdown",
      "metadata": {
        "id": "4V9OMTgJh32p"
      },
      "source": [
        "## Conclusões sobre as análises"
      ]
    },
    {
      "cell_type": "markdown",
      "metadata": {
        "id": "2h_ofUHth5rh"
      },
      "source": [
        "*   O número de operações sempre vai ser o mesmo do número de elementos a serem ordenados.\n",
        "*   Em um input ordenado,  de forma crescente ou decrescente, o algoritmo fará mais comparações que em um desordenado.\n",
        "*   Em um input ordenado,  de forma crescente ou decrescente, o algoritmo demorará mais para terminar a árvore que em um desordenado.\n",
        "*   Curiosamente, se o algoritmo for utilizado talvez seja mais proveitoso desordenar a entrada antes da criação da árvore, garantindo a desordenação e acelerando o projeto para O(nlogn).\n",
        "\n",
        "\n",
        " "
      ]
    },
    {
      "cell_type": "markdown",
      "metadata": {
        "id": "nuYoyQh253B6"
      },
      "source": [
        "## Comparando com outros algoritmos"
      ]
    },
    {
      "cell_type": "code",
      "metadata": {
        "id": "foRISdNTAbk1"
      },
      "source": [
        "# variaveis GLOBAIS para facilitar analise de algoritmo \n",
        "lista_comparacoes = [0, 0, 0]"
      ],
      "execution_count": null,
      "outputs": []
    },
    {
      "cell_type": "code",
      "metadata": {
        "id": "2EpynJr5FTB0"
      },
      "source": [
        "# bibliotecas que serao usadas \n",
        "import random\n",
        "import time\n",
        "from matplotlib import pyplot as plt"
      ],
      "execution_count": null,
      "outputs": []
    },
    {
      "cell_type": "markdown",
      "metadata": {
        "id": "mLyYVIQU7lzh"
      },
      "source": [
        "### Merge Sort"
      ]
    },
    {
      "cell_type": "markdown",
      "metadata": {
        "id": "d_cXkR-v8u7i"
      },
      "source": [
        "Algoritmo implementado na disciplina de Estrutuda de Dados."
      ]
    },
    {
      "cell_type": "markdown",
      "metadata": {
        "id": "HTH2712183Rx"
      },
      "source": [
        "Sobre o algoritmo:\n",
        "\n",
        "*   https://www.geeksforgeeks.org/merge-sort/\n",
        "\n",
        "\n"
      ]
    },
    {
      "cell_type": "code",
      "metadata": {
        "id": "O7R2Yj6857rA"
      },
      "source": [
        "def merge_sort(lista):\n",
        "\treturn divisao(lista)\n",
        "\n",
        "def divisao(lista):\n",
        "\t#dividir a lista\n",
        "\n",
        "  lista_comparacoes[0] += 1  # variavel de analise\n",
        "\n",
        "  lista1 = lista2 = [] \n",
        "\n",
        "  if len(lista)>1: \n",
        "    meio = len(lista)//2\n",
        "    lista1 = divisao(lista[0:meio])\n",
        "    lista2 = divisao(lista[meio:])\n",
        "    return combinacao(lista1,lista2)\n",
        "  else:\n",
        "    return lista\n",
        "\n",
        "def combinacao(lista1,lista2):\n",
        "  i = j = 0\n",
        "  lista = []\n",
        "  for c in range(len(lista1)+len(lista2)):\n",
        "    \n",
        "    lista_comparacoes[0] += 1 # variavel de analise\n",
        "\n",
        "    if i == len(lista1):\n",
        "      lista.append(lista2[j])\n",
        "      j+=1\n",
        "\n",
        "    elif j == len(lista2):\n",
        "      lista.append(lista1[i])\n",
        "      i+=1\n",
        "\n",
        "    elif lista1[i]<lista2[j]:\n",
        "      lista.append(lista1[i])\n",
        "      i+=1\n",
        "    else:\n",
        "      lista.append(lista2[j])\n",
        "      j+=1\n",
        "  return lista"
      ],
      "execution_count": null,
      "outputs": []
    },
    {
      "cell_type": "markdown",
      "metadata": {
        "id": "NHRWXzua7n27"
      },
      "source": [
        "### Quick Sort "
      ]
    },
    {
      "cell_type": "markdown",
      "metadata": {
        "id": "bobbYINm75cx"
      },
      "source": [
        "Algoritmo implementado na disciplina de Estrutuda de Dados."
      ]
    },
    {
      "cell_type": "markdown",
      "metadata": {
        "id": "lKeVNm2888ux"
      },
      "source": [
        "Sobre o algoritmo:\n",
        "\n",
        "*   https://www.geeksforgeeks.org/quick-sort/\n",
        "\n"
      ]
    },
    {
      "cell_type": "code",
      "metadata": {
        "id": "YbITB_3S7pl5"
      },
      "source": [
        "def quick_sort(lista,p,r):\n",
        "\n",
        "  lista_comparacoes[1] += 1 # variavel de analise\n",
        "\n",
        "  if p<r:\n",
        "    q = particao(lista,p,r)\n",
        "    lista = quick_sort(lista,p,q)\n",
        "    lista = quick_sort(lista,q+1,r)\n",
        "  return lista\n",
        "\n",
        "def particao(lista,p,r):\n",
        "  pivo = lista[(p+r)//2]\n",
        "  i = p-1\n",
        "  j = r+1\n",
        "\n",
        "  lista_comparacoes[1] += 1 # variavel de analise\n",
        "\n",
        "  while i < j:\n",
        "    j-=1\n",
        "\n",
        "    while lista[j]>pivo:\n",
        "      lista_comparacoes[1] += 1 # variavel de analise\n",
        "      j-=1\n",
        "\n",
        "    i +=1\n",
        "    while lista[i]<pivo:\n",
        "      lista_comparacoes[1] += 1 # variavel de analise\n",
        "      i+=1\n",
        "    \n",
        "    lista_comparacoes[1] += 1 # variavel de analise\n",
        "    if i<j:\n",
        "      lista[i],lista[j] = lista[j],lista[i]\n",
        "\n",
        "    lista_comparacoes[1] += 1 # variavel de analise\n",
        "\n",
        "  return j\n"
      ],
      "execution_count": null,
      "outputs": []
    },
    {
      "cell_type": "markdown",
      "metadata": {
        "id": "CIGLueXg7p_Y"
      },
      "source": [
        "### Heap Sort"
      ]
    },
    {
      "cell_type": "markdown",
      "metadata": {
        "id": "ouxJqIzF918r"
      },
      "source": [
        "Implementação do algoritmo foi obtido no site geeksforgeeks\n"
      ]
    },
    {
      "cell_type": "markdown",
      "metadata": {
        "id": "wn7uJbW59a6C"
      },
      "source": [
        "Sobre o algoritmo:\n",
        "\n",
        "*   https://www.geeksforgeeks.org/heap-sort/"
      ]
    },
    {
      "cell_type": "code",
      "metadata": {
        "id": "vDavkOoL7r5A"
      },
      "source": [
        "def heapify(arr, n, i):\n",
        "    largest = i  # Initialize largest as root\n",
        "    l = 2 * i + 1     # left = 2*i + 1\n",
        "    r = 2 * i + 2     # right = 2*i + 2\n",
        " \n",
        "    lista_comparacoes[2] += 2 # variavel de analise\n",
        "    # See if left child of root exists and is\n",
        "    # greater than root\n",
        "    if l < n and arr[largest] < arr[l]:\n",
        "        largest = l\n",
        " \n",
        "    lista_comparacoes[2] += 2 # variavel de analise\n",
        "    # See if right child of root exists and is\n",
        "    # greater than root\n",
        "    if r < n and arr[largest] < arr[r]:\n",
        "        largest = r\n",
        " \n",
        "    lista_comparacoes[2] += 1 # variavel de analise\n",
        "    # Change root, if needed\n",
        "    if largest != i:\n",
        "        arr[i], arr[largest] = arr[largest], arr[i]  # swap\n",
        " \n",
        "        # Heapify the root.\n",
        "        heapify(arr, n, largest)\n",
        " \n",
        "# The main function to sort an array of given size\n",
        " \n",
        " \n",
        "def heapSort(arr):\n",
        "    n = len(arr)\n",
        " \n",
        "    # Build a maxheap.\n",
        "    for i in range(n//2 - 1, -1, -1):\n",
        "        heapify(arr, n, i)\n",
        " \n",
        "    # One by one extract elements\n",
        "    for i in range(n-1, 0, -1):\n",
        "        arr[i], arr[0] = arr[0], arr[i]  # swap\n",
        "        heapify(arr, i, 0)\n",
        " "
      ],
      "execution_count": null,
      "outputs": []
    },
    {
      "cell_type": "markdown",
      "metadata": {
        "id": "BOuodg5Z-VTO"
      },
      "source": [
        "### Abstrações para os algoritmos comparados"
      ]
    },
    {
      "cell_type": "code",
      "metadata": {
        "id": "f26FHxoG-ZO6"
      },
      "source": [
        "# funcao para ordenar usando Merge Sort\n",
        "\n",
        "def merge_sort_analise(valores):\n",
        "\n",
        "  inicio = time.time()\n",
        "  merge_sort(valores)\n",
        "  fim = time.time()\n",
        "  print()\n",
        "\n",
        "  \n",
        "  # tempo de execucao\n",
        "  tempo = fim - inicio\n",
        "  \n",
        "  comparacoes = lista_comparacoes[0]\n",
        "\n",
        "  return {\n",
        "      'tempo em segundos':tempo, \n",
        "      'comparacoes': comparacoes,\n",
        "  }"
      ],
      "execution_count": null,
      "outputs": []
    },
    {
      "cell_type": "code",
      "metadata": {
        "id": "R-AniD76_DIa"
      },
      "source": [
        "# funcao para ordenar usando Quick Sort\n",
        "\n",
        "def quick_sort_analise(valores):\n",
        "\n",
        "  inicio = time.time()\n",
        "  quick_sort(valores, 0, len(valores)-1)\n",
        "  fim = time.time()\n",
        "  print()\n",
        "\n",
        "  \n",
        "  # tempo de execucao\n",
        "  tempo = fim - inicio\n",
        "  \n",
        "  comparacoes = lista_comparacoes[1]\n",
        "\n",
        "  return {\n",
        "      'tempo em segundos':tempo, \n",
        "      'comparacoes': comparacoes,\n",
        "  }"
      ],
      "execution_count": null,
      "outputs": []
    },
    {
      "cell_type": "code",
      "metadata": {
        "id": "EWWb0Vxr_mya"
      },
      "source": [
        "# funcao para ordenar usando Quick Sort\n",
        "\n",
        "def heap_sort_analise(valores):\n",
        "\n",
        "  inicio = time.time()\n",
        "  heapSort(valores)\n",
        "  fim = time.time()\n",
        "  print()\n",
        "\n",
        "  \n",
        "  # tempo de execucao\n",
        "  tempo = fim - inicio\n",
        "  \n",
        "  comparacoes = lista_comparacoes[1]\n",
        "\n",
        "  return {\n",
        "      'tempo em segundos':tempo, \n",
        "      'comparacoes': comparacoes,\n",
        "  }"
      ],
      "execution_count": null,
      "outputs": []
    },
    {
      "cell_type": "markdown",
      "metadata": {
        "id": "jvkWeVGZD2Ec"
      },
      "source": [
        "### Comparações"
      ]
    },
    {
      "cell_type": "markdown",
      "metadata": {
        "id": "3PWoCbE2xYHz"
      },
      "source": [
        "REFAZER TESTE COM O COPY"
      ]
    },
    {
      "cell_type": "code",
      "metadata": {
        "id": "WA0rdSpGE7dE"
      },
      "source": [
        "merge = {\n",
        "    'pior': [], \n",
        "    'medio': [], \n",
        "    'melhor':[]\n",
        "}\n",
        "\n",
        "quick = {\n",
        "    'pior': [], \n",
        "    'medio': [], \n",
        "    'melhor':[]\n",
        "}\n",
        "\n",
        "heap = {\n",
        "    'pior': [], \n",
        "    'medio': [], \n",
        "    'melhor':[]\n",
        "}\n",
        "\n",
        "tree = {\n",
        "    'pior': [], \n",
        "    'medio': [], \n",
        "    'melhor':[]\n",
        "}\n",
        "\n",
        "ordenar = ordenar_sem_recursao # para tree sort\n",
        "for c in range(50):\n",
        "  \n",
        "  numeros = random.sample(range(1, 1000000001), 10000)\n",
        "\n",
        "  # Caso medio\n",
        "  merge['medio'].append(merge_sort_analise(numeros.copy()))\n",
        "  quick['medio'].append(quick_sort_analise(numeros.copy()))\n",
        "  heap['medio'].append(heap_sort_analise(numeros.copy()))\n",
        "  tree['medio'].append(ordenar(numeros.copy()))\n",
        "\n",
        "\n",
        "  # Melhor caso\n",
        "  numeros.sort()\n",
        "  merge['melhor'].append(merge_sort_analise(numeros.copy()))\n",
        "  quick['melhor'].append(quick_sort_analise(numeros.copy()))\n",
        "  heap['melhor'].append(heap_sort_analise(numeros.copy()))\n",
        "  tree['melhor'].append(ordenar(numeros.copy()))\n",
        "\n",
        "\n",
        "  # Pior caso\n",
        "  numeros.reverse()\n",
        "  merge['pior'].append(merge_sort_analise(numeros.copy()))\n",
        "  quick['pior'].append(quick_sort_analise(numeros.copy()))\n",
        "  heap['pior'].append(heap_sort_analise(numeros.copy()))\n",
        "  tree['pior'].append(ordenar(numeros.copy()))\n"
      ],
      "execution_count": null,
      "outputs": []
    },
    {
      "cell_type": "markdown",
      "metadata": {
        "id": "Y8CHAYLvqwNi"
      },
      "source": [
        "#### Melhores casos"
      ]
    },
    {
      "cell_type": "code",
      "metadata": {
        "colab": {
          "base_uri": "https://localhost:8080/",
          "height": 587
        },
        "id": "RZb72xW1rgvJ",
        "outputId": "b8c0fd0b-3aa2-415e-d8a2-40622b9631c4"
      },
      "source": [
        "# comparacoes\n",
        "print('Media das comparações')\n",
        "\n",
        "algoritmos = ['merge', 'quick', 'heap', 'tree']\n",
        "c = 0\n",
        "for algoritmo in [merge, quick, heap, tree]:\n",
        "  valores = [valor['comparacoes'] for valor in algoritmo['melhor']]\n",
        "  print('{}: {}'.format(algoritmos[c], sum(valores)/len(valores)))\n",
        "  c += 1\n",
        "\n",
        "plt.figure(figsize=(8, 8)) \n",
        "plt.plot([analise['comparacoes'] for analise in merge['melhor']], color='red')\n",
        "plt.plot([analise['comparacoes'] for analise in quick['melhor']], color='blue')\n",
        "plt.plot([analise['comparacoes'] for analise in heap['melhor']], color='green')\n",
        "plt.plot([analise['comparacoes'] for analise in tree['melhor']], color='yellow')\n",
        "plt.ticklabel_format(style = 'plain')\n",
        "plt.title('Comparacoes dos algoritmos')\n",
        "plt.show()\n"
      ],
      "execution_count": null,
      "outputs": [
        {
          "output_type": "stream",
          "text": [
            "Media\n",
            "merge: 11751547.5\n",
            "quick: 14590974.04\n",
            "heap: 14590974.04\n",
            "tree: 49995000.0\n"
          ],
          "name": "stdout"
        },
        {
          "output_type": "display_data",
          "data": {
            "image/png": "[encoded data removed]",
            "text/plain": [
              "<Figure size 576x576 with 1 Axes>"
            ]
          },
          "metadata": {
            "tags": [],
            "needs_background": "light"
          }
        }
      ]
    },
    {
      "cell_type": "code",
      "metadata": {
        "colab": {
          "base_uri": "https://localhost:8080/",
          "height": 695
        },
        "id": "dllDBAaDq0Ep",
        "outputId": "6659a4a8-ce5d-4307-e696-ca6c7ab7f9c9"
      },
      "source": [
        "# tempo em segundos \n",
        "\n",
        "print('Media dos segundos')\n",
        "\n",
        "algoritmos = ['merge', 'quick', 'heap', 'tree']\n",
        "c = 0\n",
        "for algoritmo in [merge, quick, heap, tree]:\n",
        "  valores = [valor['tempo em segundos'] for valor in algoritmo['melhor']]\n",
        "  print('{}: {}'.format(algoritmos[c], sum(valores)/len(valores)))\n",
        "  c += 1\n",
        "  \n",
        "plt.figure(figsize=(10, 10)) \n",
        "plt.plot([analise['tempo em segundos'] for analise in merge['melhor']], color='red')\n",
        "plt.plot([analise['tempo em segundos'] for analise in quick['melhor']], color='blue')\n",
        "plt.plot([analise['tempo em segundos'] for analise in heap['melhor']], color='green')\n",
        "plt.plot([analise['tempo em segundos'] for analise in tree['melhor']], color='yellow')\n",
        "plt.title(\"Tempo dos algoritmos\")\n",
        "plt.show()"
      ],
      "execution_count": null,
      "outputs": [
        {
          "output_type": "stream",
          "text": [
            "Media dos segundos\n",
            "merge: 0.1457525110244751\n",
            "quick: 0.08669196605682374\n",
            "heap: 0.23813577651977538\n",
            "tree: 22.42317976951599\n"
          ],
          "name": "stdout"
        },
        {
          "output_type": "display_data",
          "data": {
            "image/png": "[encoded data removed]",
            "text/plain": [
              "<Figure size 720x720 with 1 Axes>"
            ]
          },
          "metadata": {
            "tags": [],
            "needs_background": "light"
          }
        }
      ]
    },
    {
      "cell_type": "markdown",
      "metadata": {
        "id": "iJcdfJwyOpHe"
      },
      "source": [
        "#### Medios casos"
      ]
    },
    {
      "cell_type": "code",
      "metadata": {
        "id": "8vfLDOaiOlRY",
        "colab": {
          "base_uri": "https://localhost:8080/",
          "height": 587
        },
        "outputId": "cac3b2e5-287b-4751-a70c-6c74644b0404"
      },
      "source": [
        "# comparacoes\n",
        "print('Media das comparações')\n",
        "\n",
        "algoritmos = ['merge', 'quick', 'heap', 'tree']\n",
        "c = 0\n",
        "for algoritmo in [merge, quick, heap, tree]:\n",
        "  valores = [valor['comparacoes'] for valor in algoritmo['medio']]\n",
        "  print('{}: {}'.format(algoritmos[c], sum(valores)/len(valores)))\n",
        "  c += 1\n",
        "\n",
        "plt.figure(figsize=(8, 8)) \n",
        "plt.plot([analise['comparacoes'] for analise in merge['medio']], color='red')\n",
        "plt.plot([analise['comparacoes'] for analise in quick['medio']], color='blue')\n",
        "plt.plot([analise['comparacoes'] for analise in heap['medio']], color='green')\n",
        "plt.plot([analise['comparacoes'] for analise in tree['medio']], color='yellow')\n",
        "plt.ticklabel_format(style = 'plain')\n",
        "plt.title('Comparacoes dos algoritmos')\n",
        "plt.show()"
      ],
      "execution_count": null,
      "outputs": [
        {
          "output_type": "stream",
          "text": [
            "Media das comparações\n",
            "merge: 11597932.5\n",
            "quick: 14417361.04\n",
            "heap: 14417361.04\n",
            "tree: 49995000.0\n"
          ],
          "name": "stdout"
        },
        {
          "output_type": "display_data",
          "data": {
            "image/png": "[encoded data removed]",
            "text/plain": [
              "<Figure size 576x576 with 1 Axes>"
            ]
          },
          "metadata": {
            "tags": [],
            "needs_background": "light"
          }
        }
      ]
    },
    {
      "cell_type": "code",
      "metadata": {
        "colab": {
          "base_uri": "https://localhost:8080/",
          "height": 695
        },
        "id": "dpjnGSklwUyS",
        "outputId": "5ad28c58-44c1-49b7-dc93-66fd65722b51"
      },
      "source": [
        "# tempo em segundos \n",
        "\n",
        "print('Media dos segundos')\n",
        "\n",
        "algoritmos = ['merge', 'quick', 'heap', 'tree']\n",
        "c = 0\n",
        "for algoritmo in [merge, quick, heap, tree]:\n",
        "  valores = [valor['tempo em segundos'] for valor in algoritmo['medio']]\n",
        "  print('{}: {}'.format(algoritmos[c], sum(valores)/len(valores)))\n",
        "  c += 1\n",
        "  \n",
        "plt.figure(figsize=(10, 10)) \n",
        "plt.plot([analise['tempo em segundos'] for analise in merge['medio']], color='red')\n",
        "plt.plot([analise['tempo em segundos'] for analise in quick['medio']], color='blue')\n",
        "plt.plot([analise['tempo em segundos'] for analise in heap['medio']], color='green')\n",
        "plt.plot([analise['tempo em segundos'] for analise in tree['medio']], color='yellow')\n",
        "plt.title(\"Tempo dos algoritmos\")\n",
        "plt.show()"
      ],
      "execution_count": null,
      "outputs": [
        {
          "output_type": "stream",
          "text": [
            "Media dos segundos\n",
            "merge: 0.155359206199646\n",
            "quick: 0.12532145500183106\n",
            "heap: 0.2253993797302246\n",
            "tree: 22.505698370933533\n"
          ],
          "name": "stdout"
        },
        {
          "output_type": "display_data",
          "data": {
            "image/png": "[encoded data removed]",
            "text/plain": [
              "<Figure size 720x720 with 1 Axes>"
            ]
          },
          "metadata": {
            "tags": [],
            "needs_background": "light"
          }
        }
      ]
    },
    {
      "cell_type": "markdown",
      "metadata": {
        "id": "xRVWaqapwcvC"
      },
      "source": [
        "#### Piores casos"
      ]
    },
    {
      "cell_type": "code",
      "metadata": {
        "colab": {
          "base_uri": "https://localhost:8080/",
          "height": 587
        },
        "id": "ZJ3yOt4vwci6",
        "outputId": "f3e43f19-b385-4937-b287-74b13ab79f4d"
      },
      "source": [
        "# comparacoes\n",
        "print('Media das comparações')\n",
        "\n",
        "algoritmos = ['merge', 'quick', 'heap', 'tree']\n",
        "c = 0\n",
        "for algoritmo in [merge, quick, heap, tree]:\n",
        "  valores = [valor['comparacoes'] for valor in algoritmo['pior']]\n",
        "  print('{}: {}'.format(algoritmos[c], sum(valores)/len(valores)))\n",
        "  c += 1\n",
        "\n",
        "plt.figure(figsize=(8, 8)) \n",
        "plt.plot([analise['comparacoes'] for analise in merge['pior']], color='red')\n",
        "plt.plot([analise['comparacoes'] for analise in quick['pior']], color='blue')\n",
        "plt.plot([analise['comparacoes'] for analise in heap['pior']], color='green')\n",
        "plt.plot([analise['comparacoes'] for analise in tree['pior']], color='yellow')\n",
        "plt.ticklabel_format(style = 'plain')\n",
        "plt.title('Comparacoes dos algoritmos')\n",
        "plt.show()"
      ],
      "execution_count": null,
      "outputs": [
        {
          "output_type": "stream",
          "text": [
            "Media das comparações\n",
            "merge: 11905162.5\n",
            "quick: 14764588.04\n",
            "heap: 14764588.04\n",
            "tree: 49995000.0\n"
          ],
          "name": "stdout"
        },
        {
          "output_type": "display_data",
          "data": {
            "image/png": "[encoded data removed]",
            "text/plain": [
              "<Figure size 576x576 with 1 Axes>"
            ]
          },
          "metadata": {
            "tags": [],
            "needs_background": "light"
          }
        }
      ]
    },
    {
      "cell_type": "code",
      "metadata": {
        "colab": {
          "base_uri": "https://localhost:8080/",
          "height": 695
        },
        "id": "-P7WsG8SwcRi",
        "outputId": "a2960d90-235e-4fb0-c15a-94b67d8efe95"
      },
      "source": [
        "# tempo em segundos \n",
        "\n",
        "print('Media dos segundos')\n",
        "\n",
        "algoritmos = ['merge', 'quick', 'heap', 'tree']\n",
        "c = 0\n",
        "for algoritmo in [merge, quick, heap, tree]:\n",
        "  valores = [valor['tempo em segundos'] for valor in algoritmo['pior']]\n",
        "  print('{}: {}'.format(algoritmos[c], sum(valores)/len(valores)))\n",
        "  c += 1\n",
        "  \n",
        "plt.figure(figsize=(10, 10)) \n",
        "plt.plot([analise['tempo em segundos'] for analise in merge['pior']], color='red')\n",
        "plt.plot([analise['tempo em segundos'] for analise in quick['pior']], color='blue')\n",
        "plt.plot([analise['tempo em segundos'] for analise in heap['pior']], color='green')\n",
        "plt.plot([analise['tempo em segundos'] for analise in tree['pior']], color='yellow')\n",
        "plt.title(\"Tempo dos algoritmos\")\n",
        "plt.show()"
      ],
      "execution_count": null,
      "outputs": [
        {
          "output_type": "stream",
          "text": [
            "Media dos segundos\n",
            "merge: 0.15693244457244873\n",
            "quick: 0.08521608352661132\n",
            "heap: 0.23092910289764404\n",
            "tree: 22.508719577789307\n"
          ],
          "name": "stdout"
        },
        {
          "output_type": "display_data",
          "data": {
            "image/png": "[encoded data removed]",
            "text/plain": [
              "<Figure size 720x720 with 1 Axes>"
            ]
          },
          "metadata": {
            "tags": [],
            "needs_background": "light"
          }
        }
      ]
    },
    {
      "cell_type": "markdown",
      "metadata": {
        "id": "uw_woK4ii-YI"
      },
      "source": [
        "## Questões para futuras pesquisas"
      ]
    },
    {
      "cell_type": "markdown",
      "metadata": {
        "id": "6fLCj7OEjB1A"
      },
      "source": [
        "\n",
        "\n",
        "*   Existe uma implementação com melhores resultados, comparação, operações e tempo de execução quando comparamos o algoritmo com recursão e o iterativo? \n",
        "*   Analisar como o algoritmo se comporta com algum método de balanceamento, como o AVL tree.\n",
        "\n"
      ]
    }
  ]
}