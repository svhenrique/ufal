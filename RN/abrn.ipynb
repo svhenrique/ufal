{
  "nbformat": 4,
  "nbformat_minor": 0,
  "metadata": {
    "colab": {
      "name": "abrn.ipynb",
      "provenance": [],
      "collapsed_sections": [],
      "authorship_tag": "ABX9TyPfp/wSniyJUfPIFzP3WHUl",
      "include_colab_link": true
    },
    "kernelspec": {
      "name": "python3",
      "display_name": "Python 3"
    },
    "language_info": {
      "name": "python"
    }
  },
  "cells": [
    {
      "cell_type": "markdown",
      "metadata": {
        "id": "view-in-github",
        "colab_type": "text"
      },
      "source": [
        "<a href=\"https://colab.research.google.com/github/svhenrique/ufal/blob/main/RN/abrn.ipynb\" target=\"_parent\"><img src=\"https://colab.research.google.com/assets/colab-badge.svg\" alt=\"Open In Colab\"/></a>"
      ]
    },
    {
      "cell_type": "markdown",
      "source": [
        "<center>\n",
        "\n",
        "#**Universidade Federal de Alagoas - UFAL**\n",
        "\n",
        "# **Ciência da Computação**\n",
        "\n",
        "## Redes Neurais\n",
        "\n",
        "## **Análise de Bibliotécas para Redes Neurais**\n",
        "\n",
        "</center>"
      ],
      "metadata": {
        "id": "YlSM_2wxRY02"
      }
    },
    {
      "cell_type": "markdown",
      "source": [
        "## Scikit-learn"
      ],
      "metadata": {
        "id": "oYIOLfV8Ek0t"
      }
    },
    {
      "cell_type": "markdown",
      "source": [
        "### O que é"
      ],
      "metadata": {
        "id": "qXzAzrY1Em8n"
      }
    },
    {
      "cell_type": "markdown",
      "source": [
        "*    Scikit-learn é o pacote de aprendizagem de máquinas mais popular na comunidade de ciência de dados. \n",
        "*    É open-source e suporta aprendiazgem supervisionada e não supervisionada.\n",
        "*    Fornece ferramentas para model fitting, data preprocessing, model selection, model evaluation, e vários outros.\n"
      ],
      "metadata": {
        "id": "QhhJjNNESW9S"
      }
    },
    {
      "cell_type": "markdown",
      "source": [
        "## Keras"
      ],
      "metadata": {
        "id": "yX9s6DusFdUM"
      }
    },
    {
      "cell_type": "markdown",
      "source": [
        "Keras é um API de aprendizado profundo escrito em Python, executado em cima da plataforma de aprendizado da máquina TensorFlow. Foi desenvolvido com o foco em permitir uma rápida experimentação. Ser capaz de ir da idéia ao resultado o mais rápido possível é a chave para fazer uma boa pesquisa."
      ],
      "metadata": {
        "id": "Ic1C3aeUSqVF"
      }
    },
    {
      "cell_type": "markdown",
      "source": [
        "## PyTorch"
      ],
      "metadata": {
        "id": "jVIuexnWFgLj"
      }
    },
    {
      "cell_type": "markdown",
      "source": [
        "PyTorch é um pacote de computação científica baseado em Python que utiliza o poder de unidades de processamento gráfico. É também uma das plataformas preferidas de pesquisa de aprendizagem profunda construída para proporcionar a máxima flexibilidade e velocidade. É conhecida por fornecer duas das características de mais alto nível, a saber, cálculos tensoriais com forte suporte à aceleração da GPU e construção de redes neurais profundas em um sistema de autograduação baseado em fita.\n"
      ],
      "metadata": {
        "id": "wvkpJ5_1TDT1"
      }
    }
  ]
}