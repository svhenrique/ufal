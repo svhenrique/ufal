{
  "nbformat": 4,
  "nbformat_minor": 0,
  "metadata": {
    "colab": {
      "name": "abrn.ipynb",
      "provenance": [],
      "collapsed_sections": [],
      "authorship_tag": "ABX9TyOm13lg+sc2ANMRDsxwp+fs",
      "include_colab_link": true
    },
    "kernelspec": {
      "name": "python3",
      "display_name": "Python 3"
    },
    "language_info": {
      "name": "python"
    }
  },
  "cells": [
    {
      "cell_type": "markdown",
      "metadata": {
        "id": "view-in-github",
        "colab_type": "text"
      },
      "source": [
        "<a href=\"https://colab.research.google.com/github/svhenrique/ufal/blob/main/RN/abrn.ipynb\" target=\"_parent\"><img src=\"https://colab.research.google.com/assets/colab-badge.svg\" alt=\"Open In Colab\"/></a>"
      ]
    },
    {
      "cell_type": "markdown",
      "source": [
        "<center>\n",
        "\n",
        "#**Universidade Federal de Alagoas - UFAL**\n",
        "\n",
        "# **Ciência da Computação**\n",
        "\n",
        "## Redes Neurais\n",
        "\n",
        "## **Análise de Bibliotécas para Redes Neurais**\n",
        "\n",
        "</center>"
      ],
      "metadata": {
        "id": "YlSM_2wxRY02"
      }
    },
    {
      "cell_type": "markdown",
      "source": [
        "## Scikit-learn"
      ],
      "metadata": {
        "id": "oYIOLfV8Ek0t"
      }
    },
    {
      "cell_type": "markdown",
      "source": [
        "### O que é"
      ],
      "metadata": {
        "id": "qXzAzrY1Em8n"
      }
    },
    {
      "cell_type": "markdown",
      "source": [
        "*    Scikit-learn é o pacote de aprendizagem de máquina mais popular na comunidade de ciência de dados. \n",
        "*    É open-source e suporta aprendiazgem supervisionada e não supervisionada.\n",
        "*    Fornece ferramentas para model fitting, data preprocessing, model selection, model evaluation, e vários outros.\n"
      ],
      "metadata": {
        "id": "QhhJjNNESW9S"
      }
    },
    {
      "cell_type": "markdown",
      "source": [
        "### Facilidade de uso"
      ],
      "metadata": {
        "id": "SHS8_bWzGrq5"
      }
    },
    {
      "cell_type": "markdown",
      "source": [
        "*   Para criar um modelo de Machine Learning, basta apenas algumas linhas com o scikit-learn. "
      ],
      "metadata": {
        "id": "eBiNXCdhHXRY"
      }
    },
    {
      "cell_type": "markdown",
      "source": [
        "![Screenshot from 2022-05-18 00-01-25.png](data:image/png;base64,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)"
      ],
      "metadata": {
        "id": "qAdsdPFLGtPR"
      }
    },
    {
      "cell_type": "markdown",
      "source": [
        "## Keras"
      ],
      "metadata": {
        "id": "yX9s6DusFdUM"
      }
    },
    {
      "cell_type": "markdown",
      "source": [
        "Keras é um API de aprendizado profundo escrito em Python, executado em cima da plataforma de aprendizado da máquina TensorFlow. Foi desenvolvido com o foco em permitir uma rápida experimentação. Ser capaz de ir da idéia ao resultado o mais rápido possível é a chave para fazer uma boa pesquisa."
      ],
      "metadata": {
        "id": "Ic1C3aeUSqVF"
      }
    },
    {
      "cell_type": "markdown",
      "source": [
        "## PyTorch"
      ],
      "metadata": {
        "id": "jVIuexnWFgLj"
      }
    },
    {
      "cell_type": "markdown",
      "source": [
        "PyTorch é um pacote de computação científica baseado em Python que utiliza o poder de unidades de processamento gráfico. É também uma das plataformas preferidas de pesquisa de aprendizagem profunda construída para proporcionar a máxima flexibilidade e velocidade. É conhecida por fornecer duas das características de mais alto nível, a saber, cálculos tensoriais com forte suporte à aceleração da GPU e construção de redes neurais profundas em um sistema de autograduação baseado em fita.\n"
      ],
      "metadata": {
        "id": "wvkpJ5_1TDT1"
      }
    }
  ]
}