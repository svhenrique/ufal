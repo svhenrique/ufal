{
  "nbformat": 4,
  "nbformat_minor": 0,
  "metadata": {
    "colab": {
      "name": "abrn.ipynb",
      "provenance": [],
      "collapsed_sections": [],
      "authorship_tag": "ABX9TyN3+P0sfFByUnF6qvSVG0kc",
      "include_colab_link": true
    },
    "kernelspec": {
      "name": "python3",
      "display_name": "Python 3"
    },
    "language_info": {
      "name": "python"
    }
  },
  "cells": [
    {
      "cell_type": "markdown",
      "metadata": {
        "id": "view-in-github",
        "colab_type": "text"
      },
      "source": [
        "<a href=\"https://colab.research.google.com/github/svhenrique/ufal/blob/main/RN/abrn.ipynb\" target=\"_parent\"><img src=\"https://colab.research.google.com/assets/colab-badge.svg\" alt=\"Open In Colab\"/></a>"
      ]
    },
    {
      "cell_type": "markdown",
      "source": [
        "<center>\n",
        "\n",
        "#**Universidade Federal de Alagoas - UFAL**\n",
        "\n",
        "# **Ciência da Computação**\n",
        "\n",
        "## Redes Neurais\n",
        "\n",
        "## **Análise de Bibliotécas para Redes Neurais**\n",
        "\n",
        "</center>"
      ],
      "metadata": {
        "id": "YlSM_2wxRY02"
      }
    },
    {
      "cell_type": "markdown",
      "source": [
        "Scikit-learn é o pacote de aprendizagem de máquinas mais popular na comunidade de ciência de dados. Escrito em linguagem de programação Python, scikit-learn fornece ferramentas bastante eficazes e fáceis de usar para o processamento de dados para a implementação de modelos de aprendizagem de máquinas."
      ],
      "metadata": {
        "id": "QhhJjNNESW9S"
      }
    },
    {
      "cell_type": "markdown",
      "source": [
        "Keras é um API de aprendizado profundo escrito em Python, executado em cima da plataforma de aprendizado da máquina TensorFlow. Foi desenvolvido com o foco em permitir uma rápida experimentação. Ser capaz de ir da idéia ao resultado o mais rápido possível é a chave para fazer uma boa pesquisa."
      ],
      "metadata": {
        "id": "Ic1C3aeUSqVF"
      }
    },
    {
      "cell_type": "markdown",
      "source": [
        "PyTorch é um pacote de computação científica baseado em Python que utiliza o poder de unidades de processamento gráfico. É também uma das plataformas preferidas de pesquisa de aprendizagem profunda construída para proporcionar a máxima flexibilidade e velocidade. É conhecida por fornecer duas das características de mais alto nível, a saber, cálculos tensoriais com forte suporte à aceleração da GPU e construção de redes neurais profundas em um sistema de autograduação baseado em fita.\n"
      ],
      "metadata": {
        "id": "wvkpJ5_1TDT1"
      }
    }
  ]
}