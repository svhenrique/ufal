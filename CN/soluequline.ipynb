{
  "nbformat": 4,
  "nbformat_minor": 0,
  "metadata": {
    "colab": {
      "name": "soluequline.ipynb",
      "provenance": [],
      "authorship_tag": "ABX9TyONvnNOZYg+/QEjE7+15Tin",
      "include_colab_link": true
    },
    "kernelspec": {
      "name": "python3",
      "display_name": "Python 3"
    },
    "language_info": {
      "name": "python"
    }
  },
  "cells": [
    {
      "cell_type": "markdown",
      "metadata": {
        "id": "view-in-github",
        "colab_type": "text"
      },
      "source": [
        "<a href=\"https://colab.research.google.com/github/svhenrique/ufal/blob/main/CN/soluequline.ipynb\" target=\"_parent\"><img src=\"https://colab.research.google.com/assets/colab-badge.svg\" alt=\"Open In Colab\"/></a>"
      ]
    },
    {
      "cell_type": "markdown",
      "source": [
        "<center>\n",
        "\n",
        "#**Universidade Federal de Alagoas - UFAL**\n",
        "\n",
        "# **Ciência da Computação**\n",
        "\n",
        "## Cálculo Numérico\n",
        "\n",
        "## **Solução de Sistemas de Equações Lineares**\n",
        "\n",
        "</center>"
      ],
      "metadata": {
        "id": "cF6XcbCkMkYx"
      }
    },
    {
      "cell_type": "markdown",
      "source": [
        "**Abra com o Google Colab para ter melhor visualização.**"
      ],
      "metadata": {
        "id": "vIXF6ZeGOHMH"
      }
    },
    {
      "cell_type": "markdown",
      "source": [
        "Material de Referência: https://www1.univap.br/spilling/CN/apostila1.pdf"
      ],
      "metadata": {
        "id": "jJq7OcvMOLbx"
      }
    },
    {
      "cell_type": "markdown",
      "source": [
        "## Caracterização Matemática"
      ],
      "metadata": {
        "id": "vG2h6F7cObEN"
      }
    },
    {
      "cell_type": "markdown",
      "source": [
        "$a_{11}x_{1} + a_{12}x_{2} + ... + a_{1n}x_{n} = b_{1} $\n",
        "\n",
        "$a_{21}x_{1} + a_{22}x_{2} + ... + a_{2n}x_{n} = b_{2} $\n",
        "\n",
        "$a_{m1}x_{1} + a_{m2}x_{2} + ... + a_{mn}x_{n} = b_{m} $\n",
        "\n",
        "onde \n",
        "\n",
        "* $a_{ij}$ são os coeficientes;\n",
        "* $x_{j}$ são as variáveis;\n",
        "* $b_{i}$ são as constantes, tal que $1 \\le i \\le m$ e $1 \\le j$"
      ],
      "metadata": {
        "id": "4P32NvBCOgxw"
      }
    }
  ]
}