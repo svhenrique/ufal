{
  "nbformat": 4,
  "nbformat_minor": 0,
  "metadata": {
    "colab": {
      "name": "soluequline.ipynb",
      "provenance": [],
      "authorship_tag": "ABX9TyMNB+/FJ+dUQMXZenayv/ur",
      "include_colab_link": true
    },
    "kernelspec": {
      "name": "python3",
      "display_name": "Python 3"
    },
    "language_info": {
      "name": "python"
    }
  },
  "cells": [
    {
      "cell_type": "markdown",
      "metadata": {
        "id": "view-in-github",
        "colab_type": "text"
      },
      "source": [
        "<a href=\"https://colab.research.google.com/github/svhenrique/ufal/blob/main/CN/soluequline.ipynb\" target=\"_parent\"><img src=\"https://colab.research.google.com/assets/colab-badge.svg\" alt=\"Open In Colab\"/></a>"
      ]
    },
    {
      "cell_type": "markdown",
      "source": [
        "<center>\n",
        "\n",
        "#**Universidade Federal de Alagoas - UFAL**\n",
        "\n",
        "# **Ciência da Computação**\n",
        "\n",
        "## Solução de Sistemas de Equações Lineares\n",
        "\n",
        "## **Zeros de Funções**\n",
        "\n",
        "</center>"
      ],
      "metadata": {
        "id": "cF6XcbCkMkYx"
      }
    }
  ]
}