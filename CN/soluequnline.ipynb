{
  "nbformat": 4,
  "nbformat_minor": 0,
  "metadata": {
    "colab": {
      "name": "soluequnline.ipynb",
      "provenance": [],
      "authorship_tag": "ABX9TyOLaG6JHW6Hr/tTxAtRjksS",
      "include_colab_link": true
    },
    "kernelspec": {
      "name": "python3",
      "display_name": "Python 3"
    },
    "language_info": {
      "name": "python"
    }
  },
  "cells": [
    {
      "cell_type": "markdown",
      "metadata": {
        "id": "view-in-github",
        "colab_type": "text"
      },
      "source": [
        "<a href=\"https://colab.research.google.com/github/svhenrique/ufal/blob/main/CN/soluequnline.ipynb\" target=\"_parent\"><img src=\"https://colab.research.google.com/assets/colab-badge.svg\" alt=\"Open In Colab\"/></a>"
      ]
    },
    {
      "cell_type": "markdown",
      "source": [
        "<center>\n",
        "\n",
        "#**Universidade Federal de Alagoas - UFAL**\n",
        "\n",
        "# **Ciência da Computação**\n",
        "\n",
        "## Cálculo Numérico\n",
        "\n",
        "## **Solução de Sistemas de Equações Não Lineares**\n",
        "\n",
        "</center>"
      ],
      "metadata": {
        "id": "Soy0yxsm-zIa"
      }
    },
    {
      "cell_type": "markdown",
      "source": [
        "## Caracterização Matemática"
      ],
      "metadata": {
        "id": "xdlkaemZ_DOD"
      }
    },
    {
      "cell_type": "markdown",
      "source": [
        "Dada uma função não linear \n",
        "\n",
        "$ F:D \\subset R^n \\to R^n,$\n",
        "\n",
        "$ F = (f_{1}, f_{2}, f_{3})^T $\n",
        "\n",
        "\n",
        "\n",
        "\n",
        "*   O objetivo é encontrar as soluções para F(x) = 0.\n",
        "\n",
        "Exemplo:\n",
        "\n",
        "$ f_{1} = (x_{1}, x_{2}, x_{3}..., x_{n}) = 0$\n",
        "\n",
        "\n",
        "\n"
      ],
      "metadata": {
        "id": "LTKNt9EU_rPp"
      }
    }
  ]
}