{
  "nbformat": 4,
  "nbformat_minor": 0,
  "metadata": {
    "colab": {
      "name": "intapro.ipynb",
      "provenance": [],
      "authorship_tag": "ABX9TyNhAMbOuIuyUitXIx1qL02A",
      "include_colab_link": true
    },
    "kernelspec": {
      "name": "python3",
      "display_name": "Python 3"
    },
    "language_info": {
      "name": "python"
    }
  },
  "cells": [
    {
      "cell_type": "markdown",
      "metadata": {
        "id": "view-in-github",
        "colab_type": "text"
      },
      "source": [
        "<a href=\"https://colab.research.google.com/github/svhenrique/ufal/blob/main/CN/intapro.ipynb\" target=\"_parent\"><img src=\"https://colab.research.google.com/assets/colab-badge.svg\" alt=\"Open In Colab\"/></a>"
      ]
    },
    {
      "cell_type": "markdown",
      "source": [
        "<center>\n",
        "\n",
        "#**Universidade Federal de Alagoas - UFAL**\n",
        "\n",
        "# **Ciência da Computação**\n",
        "\n",
        "## Cálculo Numérico\n",
        "\n",
        "## **Interpolação e Aproximação**\n",
        "\n",
        "</center>"
      ],
      "metadata": {
        "id": "Qlh3ptiLComI"
      }
    },
    {
      "cell_type": "markdown",
      "source": [
        "## Interpolação "
      ],
      "metadata": {
        "id": "1N03PkQ5DYC8"
      }
    },
    {
      "cell_type": "markdown",
      "source": [
        "* Interpolar uma função f(x) consiste em aproximar essa função por\n",
        "uma outra função g(x) escolhida entre uma classe de funções definida a\n",
        "priori e que satizfaça algumas propriedades. A função g(x) é então utilizada em substituição a função f(x).\n",
        "\n",
        "* Considere $x_{0}, x_{1}, x_{2}, ..., x_{n} $ pontos distintos (nós da interpolação) e seus valores $ f(x_{0}), f(x_{1}), f(x_{2}), ..., f(x_{n}) $. Queremos encontrar $g(x)$ tal que: \n",
        "\n",
        "<center>\n",
        "\n",
        "$g(x_{0}) = f(x_{0})$\n",
        "\n",
        "$g(x_{1}) = f(x_{1})$\n",
        "\n",
        "$g(x_{2}) = f(x_{2})$\n",
        "\n",
        "$.$\n",
        "\n",
        "$.$\n",
        "\n",
        "$.$\n",
        "\n",
        "$g(x_{n}) = f(x_{n})$\n",
        "\n",
        "</center>"
      ],
      "metadata": {
        "id": "uVg5hTipEtVM"
      }
    },
    {
      "cell_type": "code",
      "execution_count": null,
      "metadata": {
        "id": "rEx54qtYCgQR"
      },
      "outputs": [],
      "source": [
        ""
      ]
    }
  ]
}