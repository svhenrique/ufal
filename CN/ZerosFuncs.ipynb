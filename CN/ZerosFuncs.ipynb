{
  "nbformat": 4,
  "nbformat_minor": 0,
  "metadata": {
    "colab": {
      "name": "ZerosFuncs.ipynb",
      "provenance": [],
      "authorship_tag": "ABX9TyNEJedI5G4XwLVkRbUfQx9K",
      "include_colab_link": true
    },
    "kernelspec": {
      "name": "python3",
      "display_name": "Python 3"
    },
    "language_info": {
      "name": "python"
    }
  },
  "cells": [
    {
      "cell_type": "markdown",
      "metadata": {
        "id": "view-in-github",
        "colab_type": "text"
      },
      "source": [
        "<a href=\"https://colab.research.google.com/github/svhenrique/ufal/blob/main/CN/ZerosFuncs.ipynb\" target=\"_parent\"><img src=\"https://colab.research.google.com/assets/colab-badge.svg\" alt=\"Open In Colab\"/></a>"
      ]
    },
    {
      "cell_type": "markdown",
      "source": [
        "<center>\n",
        "\n",
        "#**Universidade Federal de Alagoas - UFAL**\n",
        "\n",
        "# **Ciência da Computação**\n",
        "\n",
        "## Cálculo Numérico\n",
        "\n",
        "## **Zeros de Funções**\n",
        "\n",
        "</center>"
      ],
      "metadata": {
        "id": "w6ra_Ce_ZuzL"
      }
    },
    {
      "cell_type": "markdown",
      "source": [
        "**Abra com o Google Colab para ter melhor visualização.**"
      ],
      "metadata": {
        "id": "cmqaNR2_143M"
      }
    },
    {
      "cell_type": "markdown",
      "source": [
        "Material de Referência: https://www1.univap.br/spilling/CN/apostila1.pdf"
      ],
      "metadata": {
        "id": "MsPEETLAvCOB"
      }
    },
    {
      "cell_type": "markdown",
      "source": [
        "## Caracterização Matemática"
      ],
      "metadata": {
        "id": "1-0rZ1VDaPss"
      }
    },
    {
      "cell_type": "markdown",
      "source": [
        "* Conhecida uma função F(x), determindar o valor de x* tal que f(x*) = 0.\n",
        "* x* é denominado zero da função f(x) ou raiz da equação f(x)=0.\n",
        "* Soluções analíticas:\n",
        "  * Equações algébricas (polinomiais) do 1º e 2º graus;\n",
        "  * Certos formatos de equações algébricas do 3º o e 4º graus;\n",
        "  * Algumas equações transcendentais (não polinomiais).\n",
        "\n"
      ],
      "metadata": {
        "id": "5pUHZ6gkaZpv"
      }
    },
    {
      "cell_type": "markdown",
      "source": [
        "Exemplo: Qual o zero da função f(x) = ax + b\n",
        "\n",
        "$ax + b = 0$\n",
        "\n",
        "$ax = - b$\n",
        "\n",
        "$x =  \\frac{-b}{a} =$ Zero da função f(x)"
      ],
      "metadata": {
        "id": "qNTi8MYUbstt"
      }
    }
  ]
}