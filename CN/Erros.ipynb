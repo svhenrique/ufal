{
  "nbformat": 4,
  "nbformat_minor": 0,
  "metadata": {
    "colab": {
      "name": "Erros.ipynb",
      "provenance": [],
      "authorship_tag": "ABX9TyPdgDx7qdjWsyeUPa3AWUs5",
      "include_colab_link": true
    },
    "kernelspec": {
      "name": "python3",
      "display_name": "Python 3"
    },
    "language_info": {
      "name": "python"
    }
  },
  "cells": [
    {
      "cell_type": "markdown",
      "metadata": {
        "id": "view-in-github",
        "colab_type": "text"
      },
      "source": [
        "<a href=\"https://colab.research.google.com/github/svhenrique/ufal/blob/main/CN/Erros.ipynb\" target=\"_parent\"><img src=\"https://colab.research.google.com/assets/colab-badge.svg\" alt=\"Open In Colab\"/></a>"
      ]
    },
    {
      "cell_type": "markdown",
      "source": [
        "<center>\n",
        "\n",
        "#**Universidade Federal de Alagoas - UFAL**\n",
        "\n",
        "# **Ciência da Computação**\n",
        "\n",
        "## Cálculo Numérico\n",
        "\n",
        "## **Erros**\n",
        "\n",
        "</center>\n",
        "\n",
        "\n",
        "\n",
        "\n",
        "\n",
        "\n"
      ],
      "metadata": {
        "id": "SJVIx-GGszwO"
      }
    },
    {
      "cell_type": "markdown",
      "source": [
        "**Abra com o Google Colab para ter melhor visualização.**"
      ],
      "metadata": {
        "id": "cmqaNR2_143M"
      }
    },
    {
      "cell_type": "markdown",
      "source": [
        "Material de Referência: https://www1.univap.br/spilling/CN/apostila1.pdf"
      ],
      "metadata": {
        "id": "MsPEETLAvCOB"
      }
    },
    {
      "cell_type": "markdown",
      "source": [
        "## Erros absoluto, relativo e percentual"
      ],
      "metadata": {
        "id": "OzWKsNcOvabc"
      }
    },
    {
      "cell_type": "markdown",
      "source": [
        "### Erros Absolutos\n",
        "\n"
      ],
      "metadata": {
        "id": "7D-YEXM6vmDY"
      }
    },
    {
      "cell_type": "markdown",
      "source": [
        "* Diferença entre o valor exato de um número x e seu valor aproximado $\\overline{x}$ obtido a partir de um procedimento numérico.\n",
        "\n",
        "<center>\n",
        "\n",
        "*$ E_{a} = x - $ $\\overline{x}$*\n",
        "\n",
        "</center>\n",
        "\n",
        "* x é conhecido.\n",
        "* Assumir um limitante superior ou uma\n",
        "estimativa para o módulo do erro absoluto."
      ],
      "metadata": {
        "id": "MQxAKWsPvxNJ"
      }
    },
    {
      "cell_type": "markdown",
      "source": [
        "**Exemplos**\n",
        "\n",
        "1. Sabendo-se que $\\pi$ =  (3,14; 3,15) tomaremos para  $\\pi$ um valor dentro deste intervalo e teremos, então, |$ E_{a}$| = |$\\pi$ - $\\overline{\\pi}$| < 0.01\n",
        "\n",
        "2. Regressão Linear:\n",
        "\n",
        "<center>\n",
        "<img src=\"https://upload.wikimedia.org/wikipedia/commons/5/53/Linear_least_squares_example2.png\" width=\"20%\", height=\"20%\">\n",
        "</center>"
      ],
      "metadata": {
        "id": "4HV53h8Evb5H"
      }
    }
  ]
}