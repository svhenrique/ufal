{
  "nbformat": 4,
  "nbformat_minor": 0,
  "metadata": {
    "colab": {
      "name": "Erros.ipynb",
      "provenance": [],
      "collapsed_sections": [
        "SckWkH6X6xAP",
        "-ezZD9q68V6R",
        "aP5yBkQx9Tkr",
        "OzWKsNcOvabc",
        "tUKrLmFh3gyr"
      ],
      "authorship_tag": "ABX9TyOsFBYpAvUqTD4d8Qfysc4H",
      "include_colab_link": true
    },
    "kernelspec": {
      "name": "python3",
      "display_name": "Python 3"
    },
    "language_info": {
      "name": "python"
    }
  },
  "cells": [
    {
      "cell_type": "markdown",
      "metadata": {
        "id": "view-in-github",
        "colab_type": "text"
      },
      "source": [
        "<a href=\"https://colab.research.google.com/github/svhenrique/ufal/blob/main/CN/Erros.ipynb\" target=\"_parent\"><img src=\"https://colab.research.google.com/assets/colab-badge.svg\" alt=\"Open In Colab\"/></a>"
      ]
    },
    {
      "cell_type": "markdown",
      "source": [
        "<center>\n",
        "\n",
        "#**Universidade Federal de Alagoas - UFAL**\n",
        "\n",
        "# **Ciência da Computação**\n",
        "\n",
        "## Cálculo Numérico\n",
        "\n",
        "## **Erros**\n",
        "\n",
        "</center>\n",
        "\n",
        "\n",
        "\n",
        "\n",
        "\n",
        "\n"
      ],
      "metadata": {
        "id": "SJVIx-GGszwO"
      }
    },
    {
      "cell_type": "markdown",
      "source": [
        "**Abra com o Google Colab para ter melhor visualização.**"
      ],
      "metadata": {
        "id": "cmqaNR2_143M"
      }
    },
    {
      "cell_type": "markdown",
      "source": [
        "Material de Referência: https://www1.univap.br/spilling/CN/apostila1.pdf"
      ],
      "metadata": {
        "id": "MsPEETLAvCOB"
      }
    },
    {
      "cell_type": "markdown",
      "source": [
        "## Modelagem e Resolução"
      ],
      "metadata": {
        "id": "SckWkH6X6xAP"
      }
    },
    {
      "cell_type": "markdown",
      "source": [
        "**Modelagem**: Fase de obtenção de um modelo matemático que descreve um problema\n",
        "físico em questão.\n",
        "\n",
        "**Resolução**: Fase de obtenção da solução do modelo matemático através da obtenção da\n",
        "solução analítica ou numérica."
      ],
      "metadata": {
        "id": "aiq7Bitb7JC3"
      }
    },
    {
      "cell_type": "markdown",
      "source": [
        "A utilização de simuladores numéricos para determinação da solução de um problema.\n",
        "\n",
        "Etapas:\n",
        "\n",
        "1: Definir o problema real a ser resolvido\n",
        "\n",
        "2: Observar fenômenos, levantar efeitos dominantes e fazer referência a\n",
        "conhecimentos prévios físicos e matemáticos\n",
        "\n",
        "3: Criar modelo matemático\n",
        "\n",
        "4: Resolver o problema matemático"
      ],
      "metadata": {
        "id": "LQZCLhcn610H"
      }
    },
    {
      "cell_type": "markdown",
      "source": [
        "## Fontes de erros"
      ],
      "metadata": {
        "id": "-ezZD9q68V6R"
      }
    },
    {
      "cell_type": "markdown",
      "source": [
        "**Erros de modelagem**: Estes erros estão associados, em geral, à simplificação do modelo matemático.\n",
        "\n",
        "**Erros de resolução**: \n",
        "* Precisão dos dados de entrada\n",
        "* Forma como os dados são armazenados;\n",
        "* Operações numéricas efetuadas;\n",
        "* Erro de truncamento (troca de uma série infinita por uma série finita)."
      ],
      "metadata": {
        "id": "llFDQ6Fg8XtW"
      }
    },
    {
      "cell_type": "markdown",
      "source": [
        "## Representação numérica"
      ],
      "metadata": {
        "id": "aP5yBkQx9Tkr"
      }
    },
    {
      "cell_type": "markdown",
      "source": [
        "Exemplo: \n",
        "\n",
        "Calcular a área de uma circunferência de raio 100 metros.\n",
        "\n",
        "a) $\\pi = 3,14$\n",
        "  * 31140m²\n",
        "\n",
        "b) $\\pi = 3,1416$\n",
        "  * 31416m²\n",
        "\n",
        "c) $\\pi = 3,141592654$\n",
        "  * 31415,92654m²"
      ],
      "metadata": {
        "id": "oB4pSrWH9dKn"
      }
    },
    {
      "cell_type": "markdown",
      "source": [
        "\n",
        "* Aumentando-se o número de dígitos em $\\pi$, aumentamos a precisão.\n",
        "\n",
        "* Nunca conseguiremos um valor exato.\n",
        "\n",
        "* O conjunto dos números representáveis em qualquer máquina é finito.\n",
        "\n",
        "* A representação de um número depende da BASE escolhida e do número máximo de dígitos usados na sua representação.\n",
        "\n",
        "E os computadores? \n",
        "\n",
        "* Os computadores recebem a informação numérica na base decimal, fazem a conversão para sua base (a base binária) e fazem nova conversão para exibir os resultados na base\n",
        "decimal para o usuário.\n"
      ],
      "metadata": {
        "id": "vtNj_hZa-YlT"
      }
    },
    {
      "cell_type": "markdown",
      "source": [
        "### Representação de um número inteiro"
      ],
      "metadata": {
        "id": "ge2JG27Y-2EM"
      }
    },
    {
      "cell_type": "markdown",
      "source": [
        "Qualquer computador trabalha internamente com uma base fixa β , onde β é um inteiro ≥ 2 ; e é escolhido como uma potência de 2.\n",
        "\n",
        "\n",
        "\n",
        "Para um número inteiro $x ≠ 0$, sua representação é:\n",
        "\n",
        "<center>\n",
        "$x = \\pm (d_{n}d_{n-1}...d_{2}d_{1}d_{0}) = \\pm (d_{n}β^{n}+ d_{n-1}β^{n-1} + ... + d_{1}β^{1} + d_{0}β^{0})$\n",
        "</center>\n",
        "\n",
        "* $d_{i}$ é o dígito da base em questão\n",
        "\n",
        "Exemplos:\n",
        "\n",
        "* $(1100)_{2} = 1x2^{3} + 1x2^{2} + 1x2^{1} + 1x2^{0}$\n",
        "* $(1997)_{10} = 1x10^{3} + 9x10^{2} + 910^{1} + 7x10^{0}$\n"
      ],
      "metadata": {
        "id": "h8cgenqgFi8b"
      }
    },
    {
      "cell_type": "markdown",
      "source": [
        "### Representação de um número real"
      ],
      "metadata": {
        "id": "K7JTDqsNIZNI"
      }
    },
    {
      "cell_type": "markdown",
      "source": [
        "Se o número real $x$ tem parte inteira $x_{i}$ , sua parte fracionária $x_{f} = x - x_{i}$ pode ser escrita\n",
        "como uma soma de frações binárias:\n",
        "\n",
        "<center>\n",
        "$x = \\pm (d_{n}d_{n-1}...d_{2}d_{1}d_{0}) = \\pm (d_{1}β^{-2}+ d_{2}β^{-2} + ... + d_{n-1}β^{-(n-1)} + d_{n}β^{-n})$\n",
        "</center>\n",
        "\n",
        "* O número real será representado juntando as partes inteiras e fracionárias\n",
        "* Número real = representação inteira + representação fracionária\n",
        "\n",
        "Exemplos:\n",
        "\n",
        "* $(39,28)_{10} = (3x10^{1} + 9x10^{0}) + (2x10^{-1} + 8x10^{-2}) $\n"
      ],
      "metadata": {
        "id": "ngAlARyCIZNN"
      }
    },
    {
      "cell_type": "markdown",
      "source": [
        "## Erros absoluto, relativo e percentual"
      ],
      "metadata": {
        "id": "OzWKsNcOvabc"
      }
    },
    {
      "cell_type": "markdown",
      "source": [
        "### Erros Absolutos\n",
        "\n"
      ],
      "metadata": {
        "id": "7D-YEXM6vmDY"
      }
    },
    {
      "cell_type": "markdown",
      "source": [
        "* Diferença entre o valor exato de um número x e seu valor aproximado $\\overline{x}$ obtido a partir de um procedimento numérico.\n",
        "\n",
        "<center>\n",
        "\n",
        "*$ E_{a_{x}} = x - \\overline{x}$*\n",
        "\n",
        "</center>\n",
        "\n",
        "* x é conhecido.\n",
        "* Assumir um limitante superior ou uma\n",
        "estimativa para o módulo do erro absoluto."
      ],
      "metadata": {
        "id": "MQxAKWsPvxNJ"
      }
    },
    {
      "cell_type": "markdown",
      "source": [
        "**Exemplos**\n",
        "\n",
        "1. Sabendo-se que $\\pi$ =  (3,14; 3,15) tomaremos para  $\\pi$ um valor dentro deste intervalo e teremos, então, |$ E_{a}$| = |$\\pi$ - $\\overline{\\pi}$| < 0.01\n",
        "\n",
        "2. Regressão Linear:\n",
        "\n",
        "<center>\n",
        "<img src=\"https://upload.wikimedia.org/wikipedia/commons/5/53/Linear_least_squares_example2.png\" width=\"20%\", height=\"20%\">\n",
        "</center>"
      ],
      "metadata": {
        "id": "4HV53h8Evb5H"
      }
    },
    {
      "cell_type": "markdown",
      "source": [
        "### Erros Relativos"
      ],
      "metadata": {
        "id": "-N0k8Yr82G0z"
      }
    },
    {
      "cell_type": "markdown",
      "source": [
        "* Erro absoluto dividido pelo valor aproximado.\n",
        "\n",
        "<center>\n",
        "\n",
        "*$ E_{r_{x}} = \\frac{E_{a_{x}}}{\\overline{x}} = \\frac{x - \\overline{x}}{\\overline{x}}$*\n",
        "\n",
        "</center>\n"
      ],
      "metadata": {
        "id": "RtyRF5sG2OJA"
      }
    },
    {
      "cell_type": "markdown",
      "source": [
        "### Erros Percentuais"
      ],
      "metadata": {
        "id": "tUKrLmFh3gyr"
      }
    },
    {
      "cell_type": "markdown",
      "source": [
        "*  Erro relativo em termos percentuais.\n",
        "<center>\n",
        "$ E_{p_{x}} = E_{r_{x}} * 100\\% $\n",
        "</center>\n",
        "\n",
        "* Para valores próximos de 1, os erros absoluto e relativo, têm valores muito próximos.\n",
        "\n",
        "* Para valores afastados de 1, podem ocorrer grandes diferença"
      ],
      "metadata": {
        "id": "mvvE4v9V3llr"
      }
    },
    {
      "cell_type": "markdown",
      "source": [
        "## Erro de arredondamento e truncamento"
      ],
      "metadata": {
        "id": "A4Ux_0TvMwqf"
      }
    },
    {
      "cell_type": "markdown",
      "source": [
        "<center>\n",
        "<img src=\"https://drive.google.com/file/d/1qbUJjtc0lhwcMqLjwIlnlfvTiCanwcIY/view?usp=sharing\">\n",
        "</center>"
      ],
      "metadata": {
        "id": "WRLw9snJNt0c"
      }
    },
    {
      "cell_type": "markdown",
      "source": [
        "* Quando se utiliza o arredondamento os erros cometidos são menores que no truncamento\n",
        "* Arredondamento requer um maior tempo de execução\n"
      ],
      "metadata": {
        "id": "nzp7NHg5OUIx"
      }
    },
    {
      "cell_type": "markdown",
      "source": [
        "## Propagação de erros"
      ],
      "metadata": {
        "id": "ZSq1CVdIOeRL"
      }
    }
  ]
}